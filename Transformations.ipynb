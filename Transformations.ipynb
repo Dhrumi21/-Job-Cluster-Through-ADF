{
 "cells": [
  {
   "cell_type": "code",
   "execution_count": 0,
   "metadata": {
    "application/vnd.databricks.v1+cell": {
     "cellMetadata": {
      "byteLimit": 2048000,
      "rowLimit": 10000
     },
     "inputWidgets": {},
     "nuid": "83a457e5-7618-4ecb-8f20-26cd74cf2b97",
     "showTitle": false,
     "tableResultSettingsMap": {},
     "title": ""
    }
   },
   "outputs": [],
   "source": [
    "from pyspark.sql import SparkSession\n",
    "from pyspark.sql.functions import col, sum, avg, count"
   ]
  },
  {
   "cell_type": "code",
   "execution_count": 0,
   "metadata": {
    "application/vnd.databricks.v1+cell": {
     "cellMetadata": {
      "byteLimit": 2048000,
      "rowLimit": 10000
     },
     "inputWidgets": {},
     "nuid": "fbd9bc66-28aa-4fa6-b839-fffe095edb04",
     "showTitle": false,
     "tableResultSettingsMap": {},
     "title": ""
    }
   },
   "outputs": [],
   "source": [
    "# Initialize SparkSession\n",
    "spark = SparkSession.builder.appName(\"SalesDataTransformation\").getOrCreate()"
   ]
  },
  {
   "cell_type": "code",
   "execution_count": 0,
   "metadata": {
    "application/vnd.databricks.v1+cell": {
     "cellMetadata": {
      "byteLimit": 2048000,
      "rowLimit": 10000
     },
     "inputWidgets": {},
     "nuid": "defa09b0-0d21-4ff9-8eb5-8d5a0eacdb6f",
     "showTitle": false,
     "tableResultSettingsMap": {},
     "title": ""
    }
   },
   "outputs": [],
   "source": [
    "#service_credential = \"p-J8Q~C6Fc8tFwtS-QAE-qFP9EPuXE4SV5McAc5Q\"\n",
    "#application_id = \"552a69ea-ab44-4842-8a03-7bcc62f38926\"\n",
    "#directory_id = \"b99772b5-42c9-4cf6-829d-232ec2fbe8e7\""
   ]
  },
  {
   "cell_type": "code",
   "execution_count": 0,
   "metadata": {
    "application/vnd.databricks.v1+cell": {
     "cellMetadata": {
      "byteLimit": 2048000,
      "rowLimit": 10000
     },
     "inputWidgets": {},
     "nuid": "12775830-d028-4bc4-b0e7-d73dd0e23c29",
     "showTitle": false,
     "tableResultSettingsMap": {},
     "title": ""
    }
   },
   "outputs": [
    {
     "output_type": "display_data",
     "data": {
      "text/html": [
       "<style scoped>\n",
       "  .table-result-container {\n",
       "    max-height: 300px;\n",
       "    overflow: auto;\n",
       "  }\n",
       "  table, th, td {\n",
       "    border: 1px solid black;\n",
       "    border-collapse: collapse;\n",
       "  }\n",
       "  th, td {\n",
       "    padding: 5px;\n",
       "  }\n",
       "  th {\n",
       "    text-align: left;\n",
       "  }\n",
       "</style><div class='table-result-container'><table class='table-result'><thead style='background-color: white'><tr><th>path</th><th>name</th><th>size</th><th>modificationTime</th></tr></thead><tbody><tr><td>abfss://processed@dpstorage21.dfs.core.windows.net/sales_data_cleaned.csv/_SUCCESS</td><td>_SUCCESS</td><td>0</td><td>1733365413000</td></tr><tr><td>abfss://processed@dpstorage21.dfs.core.windows.net/sales_data_cleaned.csv/_committed_5790219034973124292</td><td>_committed_5790219034973124292</td><td>746</td><td>1733365413000</td></tr><tr><td>abfss://processed@dpstorage21.dfs.core.windows.net/sales_data_cleaned.csv/_committed_9102755207785539120</td><td>_committed_9102755207785539120</td><td>380</td><td>1733365356000</td></tr><tr><td>abfss://processed@dpstorage21.dfs.core.windows.net/sales_data_cleaned.csv/_started_5790219034973124292</td><td>_started_5790219034973124292</td><td>0</td><td>1733365413000</td></tr><tr><td>abfss://processed@dpstorage21.dfs.core.windows.net/sales_data_cleaned.csv/_started_9102755207785539120</td><td>_started_9102755207785539120</td><td>0</td><td>1733365355000</td></tr><tr><td>abfss://processed@dpstorage21.dfs.core.windows.net/sales_data_cleaned.csv/part-00000-tid-5790219034973124292-2dc58480-691d-4ad6-bec4-dc8f089c75c1-235-1-c000.csv</td><td>part-00000-tid-5790219034973124292-2dc58480-691d-4ad6-bec4-dc8f089c75c1-235-1-c000.csv</td><td>146330</td><td>1733365413000</td></tr><tr><td>abfss://processed@dpstorage21.dfs.core.windows.net/sales_data_cleaned.csv/part-00001-tid-5790219034973124292-2dc58480-691d-4ad6-bec4-dc8f089c75c1-236-1-c000.csv</td><td>part-00001-tid-5790219034973124292-2dc58480-691d-4ad6-bec4-dc8f089c75c1-236-1-c000.csv</td><td>146203</td><td>1733365413000</td></tr><tr><td>abfss://processed@dpstorage21.dfs.core.windows.net/sales_data_cleaned.csv/part-00002-tid-5790219034973124292-2dc58480-691d-4ad6-bec4-dc8f089c75c1-237-1-c000.csv</td><td>part-00002-tid-5790219034973124292-2dc58480-691d-4ad6-bec4-dc8f089c75c1-237-1-c000.csv</td><td>144539</td><td>1733365413000</td></tr><tr><td>abfss://processed@dpstorage21.dfs.core.windows.net/sales_data_cleaned.csv/part-00003-tid-5790219034973124292-2dc58480-691d-4ad6-bec4-dc8f089c75c1-238-1-c000.csv</td><td>part-00003-tid-5790219034973124292-2dc58480-691d-4ad6-bec4-dc8f089c75c1-238-1-c000.csv</td><td>144377</td><td>1733365413000</td></tr></tbody></table></div>"
      ]
     },
     "metadata": {
      "application/vnd.databricks.v1+output": {
       "addedWidgets": {},
       "aggData": [],
       "aggError": "",
       "aggOverflow": false,
       "aggSchema": [],
       "aggSeriesLimitReached": false,
       "aggType": "",
       "arguments": {},
       "columnCustomDisplayInfos": {},
       "data": [
        [
         "abfss://processed@dpstorage21.dfs.core.windows.net/sales_data_cleaned.csv/_SUCCESS",
         "_SUCCESS",
         0,
         1733365413000
        ],
        [
         "abfss://processed@dpstorage21.dfs.core.windows.net/sales_data_cleaned.csv/_committed_5790219034973124292",
         "_committed_5790219034973124292",
         746,
         1733365413000
        ],
        [
         "abfss://processed@dpstorage21.dfs.core.windows.net/sales_data_cleaned.csv/_committed_9102755207785539120",
         "_committed_9102755207785539120",
         380,
         1733365356000
        ],
        [
         "abfss://processed@dpstorage21.dfs.core.windows.net/sales_data_cleaned.csv/_started_5790219034973124292",
         "_started_5790219034973124292",
         0,
         1733365413000
        ],
        [
         "abfss://processed@dpstorage21.dfs.core.windows.net/sales_data_cleaned.csv/_started_9102755207785539120",
         "_started_9102755207785539120",
         0,
         1733365355000
        ],
        [
         "abfss://processed@dpstorage21.dfs.core.windows.net/sales_data_cleaned.csv/part-00000-tid-5790219034973124292-2dc58480-691d-4ad6-bec4-dc8f089c75c1-235-1-c000.csv",
         "part-00000-tid-5790219034973124292-2dc58480-691d-4ad6-bec4-dc8f089c75c1-235-1-c000.csv",
         146330,
         1733365413000
        ],
        [
         "abfss://processed@dpstorage21.dfs.core.windows.net/sales_data_cleaned.csv/part-00001-tid-5790219034973124292-2dc58480-691d-4ad6-bec4-dc8f089c75c1-236-1-c000.csv",
         "part-00001-tid-5790219034973124292-2dc58480-691d-4ad6-bec4-dc8f089c75c1-236-1-c000.csv",
         146203,
         1733365413000
        ],
        [
         "abfss://processed@dpstorage21.dfs.core.windows.net/sales_data_cleaned.csv/part-00002-tid-5790219034973124292-2dc58480-691d-4ad6-bec4-dc8f089c75c1-237-1-c000.csv",
         "part-00002-tid-5790219034973124292-2dc58480-691d-4ad6-bec4-dc8f089c75c1-237-1-c000.csv",
         144539,
         1733365413000
        ],
        [
         "abfss://processed@dpstorage21.dfs.core.windows.net/sales_data_cleaned.csv/part-00003-tid-5790219034973124292-2dc58480-691d-4ad6-bec4-dc8f089c75c1-238-1-c000.csv",
         "part-00003-tid-5790219034973124292-2dc58480-691d-4ad6-bec4-dc8f089c75c1-238-1-c000.csv",
         144377,
         1733365413000
        ]
       ],
       "datasetInfos": [],
       "dbfsResultPath": null,
       "isJsonSchema": true,
       "metadata": {},
       "overflow": false,
       "plotOptions": {
        "customPlotOptions": {},
        "displayType": "table",
        "pivotAggregation": null,
        "pivotColumns": null,
        "xColumns": null,
        "yColumns": null
       },
       "removedWidgets": [],
       "schema": [
        {
         "metadata": "{}",
         "name": "path",
         "type": "\"string\""
        },
        {
         "metadata": "{}",
         "name": "name",
         "type": "\"string\""
        },
        {
         "metadata": "{}",
         "name": "size",
         "type": "\"long\""
        },
        {
         "metadata": "{}",
         "name": "modificationTime",
         "type": "\"long\""
        }
       ],
       "type": "table"
      }
     },
     "output_type": "display_data"
    }
   ],
   "source": [
    "%python\n",
    "#Set the storage account key\n",
    "spark.conf.set(\n",
    "    \"fs.azure.account.key.dpstorage21.dfs.core.windows.net\",\"o1zhSIwsiONj8+NSuytF22pskSpGLY4gKUIYWTkpNoGUOJrmfVGdIvdzDYByuwtBmtMtyvm0OB39+AStJwZKlQ==\")\n",
    "\n",
    "# List the files in the specified directory\n",
    "display(dbutils.fs.ls(\"abfss://processed@dpstorage21.dfs.core.windows.net/sales_data_cleaned.csv\"))"
   ]
  },
  {
   "cell_type": "code",
   "execution_count": 0,
   "metadata": {
    "application/vnd.databricks.v1+cell": {
     "cellMetadata": {
      "byteLimit": 2048000,
      "rowLimit": 10000
     },
     "inputWidgets": {},
     "nuid": "5859fb46-2c11-4638-be7f-32087bfb9de0",
     "showTitle": false,
     "tableResultSettingsMap": {},
     "title": ""
    }
   },
   "outputs": [],
   "source": [
    "file_path = \"abfss://processed@dpstorage21.dfs.core.windows.net/sales_data_cleaned.csv\"\n",
    "sales_data_df = spark.read.csv(file_path, header=True, inferSchema=True)"
   ]
  },
  {
   "cell_type": "code",
   "execution_count": 0,
   "metadata": {
    "application/vnd.databricks.v1+cell": {
     "cellMetadata": {
      "byteLimit": 2048000,
      "rowLimit": 10000
     },
     "inputWidgets": {},
     "nuid": "6589eb58-93be-48ed-9b5d-490beb412f00",
     "showTitle": false,
     "tableResultSettingsMap": {},
     "title": ""
    }
   },
   "outputs": [],
   "source": [
    "# 1. GroupBy Transformation: Summarize Sales by Product Line\n",
    "sales_summary = (\n",
    "    sales_data_df.groupBy(\"PRODUCTLINE\")\n",
    "    .agg(\n",
    "        sum(\"SALES\").alias(\"TOTAL_SALES\"),\n",
    "        avg(\"SALES\").alias(\"AVERAGE_SALES\"),\n",
    "        count(\"SALES\").alias(\"SALES_COUNT\")\n",
    "    )\n",
    ")"
   ]
  },
  {
   "cell_type": "code",
   "execution_count": 0,
   "metadata": {
    "application/vnd.databricks.v1+cell": {
     "cellMetadata": {
      "byteLimit": 2048000,
      "rowLimit": 10000
     },
     "inputWidgets": {},
     "nuid": "26553689-0ea1-491b-a9c1-f87e3f9ee386",
     "showTitle": false,
     "tableResultSettingsMap": {},
     "title": ""
    }
   },
   "outputs": [],
   "source": [
    "# 1. GroupBy Transformation: Summarize Sales by Product Line\n",
    "sales_summary = (\n",
    "    sales_data_df.groupBy(\"PRODUCTLINE\")\n",
    "    .agg(\n",
    "        sum(\"SALES\").alias(\"TOTAL_SALES\"),\n",
    "        avg(\"SALES\").alias(\"AVERAGE_SALES\"),\n",
    "        count(\"SALES\").alias(\"SALES_COUNT\")\n",
    "    )\n",
    ")"
   ]
  },
  {
   "cell_type": "code",
   "execution_count": 0,
   "metadata": {
    "application/vnd.databricks.v1+cell": {
     "cellMetadata": {
      "byteLimit": 2048000,
      "rowLimit": 10000
     },
     "inputWidgets": {},
     "nuid": "46eb850e-6e30-4d05-b330-e567c428ae41",
     "showTitle": false,
     "tableResultSettingsMap": {},
     "title": ""
    }
   },
   "outputs": [
    {
     "output_type": "stream",
     "name": "stdout",
     "output_type": "stream",
     "text": [
      "+----------------+------------------+------------------+-----------+\n|     PRODUCTLINE|       TOTAL_SALES|     AVERAGE_SALES|SALES_COUNT|\n+----------------+------------------+------------------+-----------+\n|     Motorcycles|        1166388.34|3523.8318429003025|        331|\n|    Vintage Cars|1903150.8399999999|3135.3391103789127|        607|\n|Trucks and Buses|        1127789.84|3746.8100996677745|        301|\n|    Classic Cars|3919615.6599999983|4053.3771044467408|        967|\n|          Planes| 975003.5699999997| 3186.286176470587|        306|\n|           Ships| 714437.1299999997|3053.1501282051267|        234|\n|          Trains|         226243.47| 2938.226883116883|         77|\n+----------------+------------------+------------------+-----------+\n\n"
     ]
    }
   ],
   "source": [
    "# Show the results\n",
    "sales_summary.show()"
   ]
  },
  {
   "cell_type": "code",
   "execution_count": 0,
   "metadata": {
    "application/vnd.databricks.v1+cell": {
     "cellMetadata": {
      "byteLimit": 2048000,
      "rowLimit": 10000
     },
     "inputWidgets": {},
     "nuid": "39950aea-d641-455b-a93e-0c1f855302e9",
     "showTitle": false,
     "tableResultSettingsMap": {},
     "title": ""
    }
   },
   "outputs": [],
   "source": [
    "# 2. PartitionBy Transformation: Partition Data by Year and Month for Staging\n",
    "output_path = 'abfss://staging@dpstorage21.dfs.core.windows.net/sales_data_cleaned.csv'\n",
    "(\n",
    "    sales_data_df.repartition(\"YEAR_ID\", \"MONTH_ID\")\n",
    "    .write.mode(\"overwrite\")\n",
    "    .partitionBy(\"YEAR_ID\", \"MONTH_ID\")\n",
    "    .parquet(output_path)\n",
    ")"
   ]
  },
  {
   "cell_type": "code",
   "execution_count": 0,
   "metadata": {
    "application/vnd.databricks.v1+cell": {
     "cellMetadata": {
      "byteLimit": 2048000,
      "rowLimit": 10000
     },
     "inputWidgets": {},
     "nuid": "b69fead6-4ba2-49d2-b40b-5cd3ddc62bd9",
     "showTitle": false,
     "tableResultSettingsMap": {},
     "title": ""
    }
   },
   "outputs": [
    {
     "output_type": "stream",
     "name": "stdout",
     "output_type": "stream",
     "text": [
      "Data partitioned by 'YEAR_ID' and 'MONTH_ID' and saved to abfss://staging@dpstorage21.dfs.core.windows.net/sales_data_cleaned.csv\n"
     ]
    }
   ],
   "source": [
    "print(f\"Data partitioned by 'YEAR_ID' and 'MONTH_ID' and saved to {output_path}\")"
   ]
  }
 ],
 "metadata": {
  "application/vnd.databricks.v1+notebook": {
   "dashboards": [],
   "environmentMetadata": {
    "base_environment": "",
    "client": "1"
   },
   "language": "python",
   "notebookMetadata": {
    "pythonIndentUnit": 4
   },
   "notebookName": "Transformations",
   "widgets": {}
  },
  "language_info": {
   "name": "python"
  }
 },
 "nbformat": 4,
 "nbformat_minor": 0
}