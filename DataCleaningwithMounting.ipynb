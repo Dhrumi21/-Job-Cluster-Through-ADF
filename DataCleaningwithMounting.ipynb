{
 "cells": [
  {
   "cell_type": "code",
   "execution_count": 0,
   "metadata": {
    "application/vnd.databricks.v1+cell": {
     "cellMetadata": {
      "byteLimit": 2048000,
      "rowLimit": 10000
     },
     "inputWidgets": {},
     "nuid": "2d55b272-5890-49c2-8514-e95ed10ccf89",
     "showTitle": false,
     "tableResultSettingsMap": {},
     "title": ""
    }
   },
   "outputs": [],
   "source": [
    "spark.conf.set(\"fs.azure.account.key.dpstorage21.dfs.core.windows.net\",\"o1zhSIwsiONj8+NSuytF22pskSpGLY4gKUIYWTkpNoGUOJrmfVGdIvdzDYByuwtBmtMtyvm0OB39+AStJwZKlQ==\")"
   ]
  },
  {
   "cell_type": "code",
   "execution_count": 0,
   "metadata": {
    "application/vnd.databricks.v1+cell": {
     "cellMetadata": {
      "byteLimit": 2048000,
      "rowLimit": 10000
     },
     "inputWidgets": {},
     "nuid": "0e8d45e1-c0ec-4392-ae1d-8b1e2036a8a4",
     "showTitle": false,
     "tableResultSettingsMap": {},
     "title": ""
    }
   },
   "outputs": [],
   "source": [
    "service_credential = \"p-J8Q~C6Fc8tFwtS-QAE-qFP9EPuXE4SV5McAc5Q\"\n",
    "application_id = \"552a69ea-ab44-4842-8a03-7bcc62f38926\"\n",
    "directory_id = \"b99772b5-42c9-4cf6-829d-232ec2fbe8e7\""
   ]
  },
  {
   "cell_type": "code",
   "execution_count": 0,
   "metadata": {
    "application/vnd.databricks.v1+cell": {
     "cellMetadata": {
      "byteLimit": 2048000,
      "rowLimit": 10000
     },
     "inputWidgets": {},
     "nuid": "f61502c6-3226-41c4-95fd-62476d97ad0d",
     "showTitle": false,
     "tableResultSettingsMap": {},
     "title": ""
    }
   },
   "outputs": [],
   "source": [
    "\n",
    "configs = {\"fs.azure.account.auth.type\": \"OAuth\",\n",
    "          \"fs.azure.account.oauth.provider.type\": \"org.apache.hadoop.fs.azurebfs.oauth2.ClientCredsTokenProvider\",\n",
    "         \"fs.azure.account.oauth2.client.id\": application_id,\n",
    "         \"fs.azure.account.oauth2.client.secret\":service_credential,\n",
    "         \"fs.azure.account.oauth2.client.endpoint\": f\"https://login.microsoftonline.com/{directory_id}/oauth2/token\"}"
   ]
  },
  {
   "cell_type": "code",
   "execution_count": 0,
   "metadata": {
    "application/vnd.databricks.v1+cell": {
     "cellMetadata": {
      "byteLimit": 2048000,
      "rowLimit": 10000
     },
     "inputWidgets": {},
     "nuid": "19b633ef-1050-4c07-9103-47c530cae49f",
     "showTitle": false,
     "tableResultSettingsMap": {},
     "title": ""
    }
   },
   "outputs": [],
   "source": [
    "mount_point = f\"/mnt/dpstorage21/raw\""
   ]
  },
  {
   "cell_type": "code",
   "execution_count": 0,
   "metadata": {
    "application/vnd.databricks.v1+cell": {
     "cellMetadata": {
      "byteLimit": 2048000,
      "rowLimit": 10000
     },
     "inputWidgets": {},
     "nuid": "cbc732bf-19b5-489b-a7fe-9027289ad230",
     "showTitle": false,
     "tableResultSettingsMap": {},
     "title": ""
    }
   },
   "outputs": [
    {
     "output_type": "stream",
     "name": "stdout",
     "output_type": "stream",
     "text": [
      "/mnt/dpstorage21/raw has been unmounted.\n"
     ]
    }
   ],
   "source": [
    "# Unmount if the mount point exists (optional)\n",
    "try:\n",
    "    dbutils.fs.unmount(mount_point)\n",
    "except Exception as e:\n",
    "    print(f\"Unmount failed: {e}\")"
   ]
  },
  {
   "cell_type": "code",
   "execution_count": 0,
   "metadata": {
    "application/vnd.databricks.v1+cell": {
     "cellMetadata": {
      "byteLimit": 2048000,
      "rowLimit": 10000
     },
     "inputWidgets": {},
     "nuid": "355dd23f-aebb-41bb-b486-56c42ab18325",
     "showTitle": false,
     "tableResultSettingsMap": {},
     "title": ""
    }
   },
   "outputs": [
    {
     "output_type": "execute_result",
     "data": {
      "text/plain": [
       "True"
      ]
     },
     "execution_count": 25,
     "metadata": {},
     "output_type": "execute_result"
    }
   ],
   "source": [
    "%python\n",
    "configs = {\"fs.azure.account.auth.type\": \"OAuth\",\n",
    "          \"fs.azure.account.oauth.provider.type\": \"org.apache.hadoop.fs.azurebfs.oauth2.ClientCredsTokenProvider\",\n",
    "         \"fs.azure.account.oauth2.client.id\": application_id,\n",
    "         \"fs.azure.account.oauth2.client.secret\":service_credential,\n",
    "         \"fs.azure.account.oauth2.client.endpoint\": f\"https://login.microsoftonline.com/{directory_id}/oauth2/token\"}\n",
    "\n",
    "dbutils.fs.mount(\n",
    "    source=\"abfss://raw@dpstorage21.dfs.core.windows.net/\",\n",
    "    mount_point=mount_point,\n",
    "    extra_configs=configs\n",
    ")"
   ]
  },
  {
   "cell_type": "code",
   "execution_count": 0,
   "metadata": {
    "application/vnd.databricks.v1+cell": {
     "cellMetadata": {
      "byteLimit": 2048000,
      "rowLimit": 10000
     },
     "inputWidgets": {},
     "nuid": "7304c114-d390-444e-8ae4-e9b7737fa9a9",
     "showTitle": false,
     "tableResultSettingsMap": {},
     "title": ""
    }
   },
   "outputs": [
    {
     "output_type": "display_data",
     "data": {
      "text/html": [
       "<style scoped>\n",
       "  .table-result-container {\n",
       "    max-height: 300px;\n",
       "    overflow: auto;\n",
       "  }\n",
       "  table, th, td {\n",
       "    border: 1px solid black;\n",
       "    border-collapse: collapse;\n",
       "  }\n",
       "  th, td {\n",
       "    padding: 5px;\n",
       "  }\n",
       "  th {\n",
       "    text-align: left;\n",
       "  }\n",
       "</style><div class='table-result-container'><table class='table-result'><thead style='background-color: white'><tr><th>path</th><th>name</th><th>size</th><th>modificationTime</th></tr></thead><tbody><tr><td>dbfs:/mnt/dpstorage21/raw/sales_data.csv</td><td>sales_data.csv</td><td>527958</td><td>1733428871000</td></tr></tbody></table></div>"
      ]
     },
     "metadata": {
      "application/vnd.databricks.v1+output": {
       "addedWidgets": {},
       "aggData": [],
       "aggError": "",
       "aggOverflow": false,
       "aggSchema": [],
       "aggSeriesLimitReached": false,
       "aggType": "",
       "arguments": {},
       "columnCustomDisplayInfos": {},
       "data": [
        [
         "dbfs:/mnt/dpstorage21/raw/sales_data.csv",
         "sales_data.csv",
         527958,
         1733428871000
        ]
       ],
       "datasetInfos": [],
       "dbfsResultPath": null,
       "isJsonSchema": true,
       "metadata": {},
       "overflow": false,
       "plotOptions": {
        "customPlotOptions": {},
        "displayType": "table",
        "pivotAggregation": null,
        "pivotColumns": null,
        "xColumns": null,
        "yColumns": null
       },
       "removedWidgets": [],
       "schema": [
        {
         "metadata": "{}",
         "name": "path",
         "type": "\"string\""
        },
        {
         "metadata": "{}",
         "name": "name",
         "type": "\"string\""
        },
        {
         "metadata": "{}",
         "name": "size",
         "type": "\"long\""
        },
        {
         "metadata": "{}",
         "name": "modificationTime",
         "type": "\"long\""
        }
       ],
       "type": "table"
      }
     },
     "output_type": "display_data"
    }
   ],
   "source": [
    "# List files in the mount point\n",
    "display(dbutils.fs.ls(mount_point))"
   ]
  },
  {
   "cell_type": "code",
   "execution_count": 0,
   "metadata": {
    "application/vnd.databricks.v1+cell": {
     "cellMetadata": {
      "byteLimit": 2048000,
      "rowLimit": 10000
     },
     "inputWidgets": {},
     "nuid": "d629e4cb-9bca-424d-a972-de06bda45d71",
     "showTitle": false,
     "tableResultSettingsMap": {},
     "title": ""
    }
   },
   "outputs": [
    {
     "output_type": "display_data",
     "data": {
      "text/html": [
       "<style scoped>\n",
       "  .table-result-container {\n",
       "    max-height: 300px;\n",
       "    overflow: auto;\n",
       "  }\n",
       "  table, th, td {\n",
       "    border: 1px solid black;\n",
       "    border-collapse: collapse;\n",
       "  }\n",
       "  th, td {\n",
       "    padding: 5px;\n",
       "  }\n",
       "  th {\n",
       "    text-align: left;\n",
       "  }\n",
       "</style><div class='table-result-container'><table class='table-result'><thead style='background-color: white'><tr><th>ORDERNUMBER</th><th>QUANTITYORDERED</th><th>PRICEEACH</th><th>ORDERLINENUMBER</th><th>SALES</th><th>ORDERDATE</th><th>STATUS</th><th>QTR_ID</th><th>MONTH_ID</th><th>YEAR_ID</th><th>PRODUCTLINE</th><th>MSRP</th><th>PRODUCTCODE</th><th>CUSTOMERNAME</th><th>PHONE</th><th>ADDRESSLINE1</th><th>ADDRESSLINE2</th><th>CITY</th><th>STATE</th><th>POSTALCODE</th><th>COUNTRY</th><th>TERRITORY</th><th>CONTACTLASTNAME</th><th>CONTACTFIRSTNAME</th><th>DEALSIZE</th></tr></thead><tbody><tr><td>10107</td><td>30</td><td>95.7</td><td>2</td><td>2871.0</td><td>2/24/2003 0:00</td><td>Shipped</td><td>1</td><td>2</td><td>2003</td><td>Motorcycles</td><td>95</td><td>S10_1678</td><td>Land of Toys Inc.</td><td>2125557818</td><td>897 Long Airport Avenue</td><td>null</td><td>NYC</td><td>NY</td><td>10022</td><td>USA</td><td>null</td><td>Yu</td><td>Kwai</td><td>Small</td></tr><tr><td>10121</td><td>34</td><td>81.35</td><td>5</td><td>2765.9</td><td>5/7/2003 0:00</td><td>Shipped</td><td>2</td><td>5</td><td>2003</td><td>Motorcycles</td><td>95</td><td>S10_1678</td><td>Reims Collectables</td><td>26.47.1555</td><td>59 rue de l'Abbaye</td><td>null</td><td>Reims</td><td>null</td><td>51100</td><td>France</td><td>EMEA</td><td>Henriot</td><td>Paul</td><td>Small</td></tr><tr><td>10134</td><td>41</td><td>94.74</td><td>2</td><td>3884.34</td><td>7/1/2003 0:00</td><td>Shipped</td><td>3</td><td>7</td><td>2003</td><td>Motorcycles</td><td>95</td><td>S10_1678</td><td>Lyon Souveniers</td><td>+33 1 46 62 7555</td><td>27 rue du Colonel Pierre Avia</td><td>null</td><td>Paris</td><td>null</td><td>75508</td><td>France</td><td>EMEA</td><td>Da Cunha</td><td>Daniel</td><td>Medium</td></tr><tr><td>10145</td><td>45</td><td>83.26</td><td>6</td><td>3746.7</td><td>8/25/2003 0:00</td><td>Shipped</td><td>3</td><td>8</td><td>2003</td><td>Motorcycles</td><td>95</td><td>S10_1678</td><td>Toys4GrownUps.com</td><td>6265557265</td><td>78934 Hillside Dr.</td><td>null</td><td>Pasadena</td><td>CA</td><td>90003</td><td>USA</td><td>null</td><td>Young</td><td>Julie</td><td>Medium</td></tr><tr><td>10159</td><td>49</td><td>100.0</td><td>14</td><td>5205.27</td><td>10/10/2003 0:00</td><td>Shipped</td><td>4</td><td>10</td><td>2003</td><td>Motorcycles</td><td>95</td><td>S10_1678</td><td>Corporate Gift Ideas Co.</td><td>6505551386</td><td>7734 Strong St.</td><td>null</td><td>San Francisco</td><td>CA</td><td>null</td><td>USA</td><td>null</td><td>Brown</td><td>Julie</td><td>Medium</td></tr></tbody></table></div>"
      ]
     },
     "metadata": {
      "application/vnd.databricks.v1+output": {
       "addedWidgets": {},
       "aggData": [],
       "aggError": "",
       "aggOverflow": false,
       "aggSchema": [],
       "aggSeriesLimitReached": false,
       "aggType": "",
       "arguments": {},
       "columnCustomDisplayInfos": {},
       "data": [
        [
         10107,
         30,
         95.7,
         2,
         2871.0,
         "2/24/2003 0:00",
         "Shipped",
         1,
         2,
         2003,
         "Motorcycles",
         95,
         "S10_1678",
         "Land of Toys Inc.",
         "2125557818",
         "897 Long Airport Avenue",
         null,
         "NYC",
         "NY",
         "10022",
         "USA",
         null,
         "Yu",
         "Kwai",
         "Small"
        ],
        [
         10121,
         34,
         81.35,
         5,
         2765.9,
         "5/7/2003 0:00",
         "Shipped",
         2,
         5,
         2003,
         "Motorcycles",
         95,
         "S10_1678",
         "Reims Collectables",
         "26.47.1555",
         "59 rue de l'Abbaye",
         null,
         "Reims",
         null,
         "51100",
         "France",
         "EMEA",
         "Henriot",
         "Paul",
         "Small"
        ],
        [
         10134,
         41,
         94.74,
         2,
         3884.34,
         "7/1/2003 0:00",
         "Shipped",
         3,
         7,
         2003,
         "Motorcycles",
         95,
         "S10_1678",
         "Lyon Souveniers",
         "+33 1 46 62 7555",
         "27 rue du Colonel Pierre Avia",
         null,
         "Paris",
         null,
         "75508",
         "France",
         "EMEA",
         "Da Cunha",
         "Daniel",
         "Medium"
        ],
        [
         10145,
         45,
         83.26,
         6,
         3746.7,
         "8/25/2003 0:00",
         "Shipped",
         3,
         8,
         2003,
         "Motorcycles",
         95,
         "S10_1678",
         "Toys4GrownUps.com",
         "6265557265",
         "78934 Hillside Dr.",
         null,
         "Pasadena",
         "CA",
         "90003",
         "USA",
         null,
         "Young",
         "Julie",
         "Medium"
        ],
        [
         10159,
         49,
         100.0,
         14,
         5205.27,
         "10/10/2003 0:00",
         "Shipped",
         4,
         10,
         2003,
         "Motorcycles",
         95,
         "S10_1678",
         "Corporate Gift Ideas Co.",
         "6505551386",
         "7734 Strong St.",
         null,
         "San Francisco",
         "CA",
         null,
         "USA",
         null,
         "Brown",
         "Julie",
         "Medium"
        ]
       ],
       "datasetInfos": [],
       "dbfsResultPath": null,
       "isJsonSchema": true,
       "metadata": {},
       "overflow": false,
       "plotOptions": {
        "customPlotOptions": {},
        "displayType": "table",
        "pivotAggregation": null,
        "pivotColumns": null,
        "xColumns": null,
        "yColumns": null
       },
       "removedWidgets": [],
       "schema": [
        {
         "metadata": "{}",
         "name": "ORDERNUMBER",
         "type": "\"long\""
        },
        {
         "metadata": "{}",
         "name": "QUANTITYORDERED",
         "type": "\"long\""
        },
        {
         "metadata": "{}",
         "name": "PRICEEACH",
         "type": "\"double\""
        },
        {
         "metadata": "{}",
         "name": "ORDERLINENUMBER",
         "type": "\"long\""
        },
        {
         "metadata": "{}",
         "name": "SALES",
         "type": "\"double\""
        },
        {
         "metadata": "{}",
         "name": "ORDERDATE",
         "type": "\"string\""
        },
        {
         "metadata": "{}",
         "name": "STATUS",
         "type": "\"string\""
        },
        {
         "metadata": "{}",
         "name": "QTR_ID",
         "type": "\"long\""
        },
        {
         "metadata": "{}",
         "name": "MONTH_ID",
         "type": "\"long\""
        },
        {
         "metadata": "{}",
         "name": "YEAR_ID",
         "type": "\"long\""
        },
        {
         "metadata": "{}",
         "name": "PRODUCTLINE",
         "type": "\"string\""
        },
        {
         "metadata": "{}",
         "name": "MSRP",
         "type": "\"long\""
        },
        {
         "metadata": "{}",
         "name": "PRODUCTCODE",
         "type": "\"string\""
        },
        {
         "metadata": "{}",
         "name": "CUSTOMERNAME",
         "type": "\"string\""
        },
        {
         "metadata": "{}",
         "name": "PHONE",
         "type": "\"string\""
        },
        {
         "metadata": "{}",
         "name": "ADDRESSLINE1",
         "type": "\"string\""
        },
        {
         "metadata": "{}",
         "name": "ADDRESSLINE2",
         "type": "\"void\""
        },
        {
         "metadata": "{}",
         "name": "CITY",
         "type": "\"string\""
        },
        {
         "metadata": "{}",
         "name": "STATE",
         "type": "\"string\""
        },
        {
         "metadata": "{}",
         "name": "POSTALCODE",
         "type": "\"string\""
        },
        {
         "metadata": "{}",
         "name": "COUNTRY",
         "type": "\"string\""
        },
        {
         "metadata": "{}",
         "name": "TERRITORY",
         "type": "\"string\""
        },
        {
         "metadata": "{}",
         "name": "CONTACTLASTNAME",
         "type": "\"string\""
        },
        {
         "metadata": "{}",
         "name": "CONTACTFIRSTNAME",
         "type": "\"string\""
        },
        {
         "metadata": "{}",
         "name": "DEALSIZE",
         "type": "\"string\""
        }
       ],
       "type": "table"
      }
     },
     "output_type": "display_data"
    }
   ],
   "source": [
    "%python\n",
    "# Path to the file\n",
    "file_path = f\"/dbfs{mount_point}/sales_data.csv\"  # Replace 'your_dataset.csv' with the actual file name\n",
    "\n",
    "# Load the dataset with specified encoding\n",
    "df = pd.read_csv(file_path, encoding='ISO-8859-1')\n",
    "\n",
    "# Proceed with data cleaning\n",
    "display(df.head())"
   ]
  },
  {
   "cell_type": "code",
   "execution_count": 0,
   "metadata": {
    "application/vnd.databricks.v1+cell": {
     "cellMetadata": {
      "byteLimit": 2048000,
      "rowLimit": 10000
     },
     "inputWidgets": {},
     "nuid": "22e7b41e-58f7-490f-a416-7a89d2ac163a",
     "showTitle": false,
     "tableResultSettingsMap": {},
     "title": ""
    }
   },
   "outputs": [
    {
     "output_type": "display_data",
     "data": {
      "text/html": [
       "<style scoped>\n",
       "  .table-result-container {\n",
       "    max-height: 300px;\n",
       "    overflow: auto;\n",
       "  }\n",
       "  table, th, td {\n",
       "    border: 1px solid black;\n",
       "    border-collapse: collapse;\n",
       "  }\n",
       "  th, td {\n",
       "    padding: 5px;\n",
       "  }\n",
       "  th {\n",
       "    text-align: left;\n",
       "  }\n",
       "</style><div class='table-result-container'><table class='table-result'><thead style='background-color: white'><tr><th>path</th><th>name</th><th>size</th><th>modificationTime</th></tr></thead><tbody><tr><td>abfss://raw@dpstorage21.dfs.core.windows.net/sales_data.csv</td><td>sales_data.csv</td><td>527958</td><td>1733428871000</td></tr></tbody></table></div>"
      ]
     },
     "metadata": {
      "application/vnd.databricks.v1+output": {
       "addedWidgets": {},
       "aggData": [],
       "aggError": "",
       "aggOverflow": false,
       "aggSchema": [],
       "aggSeriesLimitReached": false,
       "aggType": "",
       "arguments": {},
       "columnCustomDisplayInfos": {},
       "data": [
        [
         "abfss://raw@dpstorage21.dfs.core.windows.net/sales_data.csv",
         "sales_data.csv",
         527958,
         1733428871000
        ]
       ],
       "datasetInfos": [],
       "dbfsResultPath": null,
       "isJsonSchema": true,
       "metadata": {},
       "overflow": false,
       "plotOptions": {
        "customPlotOptions": {},
        "displayType": "table",
        "pivotAggregation": null,
        "pivotColumns": null,
        "xColumns": null,
        "yColumns": null
       },
       "removedWidgets": [],
       "schema": [
        {
         "metadata": "{}",
         "name": "path",
         "type": "\"string\""
        },
        {
         "metadata": "{}",
         "name": "name",
         "type": "\"string\""
        },
        {
         "metadata": "{}",
         "name": "size",
         "type": "\"long\""
        },
        {
         "metadata": "{}",
         "name": "modificationTime",
         "type": "\"long\""
        }
       ],
       "type": "table"
      }
     },
     "output_type": "display_data"
    }
   ],
   "source": [
    "display(dbutils.fs.ls(\"abfss://raw@dpstorage21.dfs.core.windows.net\"))"
   ]
  },
  {
   "cell_type": "markdown",
   "metadata": {
    "application/vnd.databricks.v1+cell": {
     "cellMetadata": {
      "byteLimit": 2048000,
      "rowLimit": 10000
     },
     "inputWidgets": {},
     "nuid": "6e4e8a9c-1bed-4c4e-8481-87cae1bf1256",
     "showTitle": false,
     "tableResultSettingsMap": {},
     "title": ""
    }
   },
   "source": [
    "Extract"
   ]
  },
  {
   "cell_type": "code",
   "execution_count": 0,
   "metadata": {
    "application/vnd.databricks.v1+cell": {
     "cellMetadata": {
      "byteLimit": 2048000,
      "rowLimit": 10000
     },
     "inputWidgets": {},
     "nuid": "0c0949f5-4198-4fb5-a421-4f1c24e28dd5",
     "showTitle": false,
     "tableResultSettingsMap": {},
     "title": ""
    }
   },
   "outputs": [
    {
     "output_type": "stream",
     "name": "stdout",
     "output_type": "stream",
     "text": [
      "+-----------+---------------+---------+---------------+-------+---------------+-------+------+--------+-------+-----------+----+-----------+--------------------+----------------+--------------------+------------+-------------+--------+----------+---------+---------+---------------+----------------+--------+\n|ORDERNUMBER|QUANTITYORDERED|PRICEEACH|ORDERLINENUMBER|  SALES|      ORDERDATE| STATUS|QTR_ID|MONTH_ID|YEAR_ID|PRODUCTLINE|MSRP|PRODUCTCODE|        CUSTOMERNAME|           PHONE|        ADDRESSLINE1|ADDRESSLINE2|         CITY|   STATE|POSTALCODE|  COUNTRY|TERRITORY|CONTACTLASTNAME|CONTACTFIRSTNAME|DEALSIZE|\n+-----------+---------------+---------+---------------+-------+---------------+-------+------+--------+-------+-----------+----+-----------+--------------------+----------------+--------------------+------------+-------------+--------+----------+---------+---------+---------------+----------------+--------+\n|      10107|             30|     95.7|              2| 2871.0| 2/24/2003 0:00|Shipped|     1|       2|   2003|Motorcycles|  95|   S10_1678|   Land of Toys Inc.|      2125557818|897 Long Airport ...|        NULL|          NYC|      NY|     10022|      USA|       NA|             Yu|            Kwai|   Small|\n|      10121|             34|    81.35|              5| 2765.9|  5/7/2003 0:00|Shipped|     2|       5|   2003|Motorcycles|  95|   S10_1678|  Reims Collectables|      26.47.1555|  59 rue de l'Abbaye|        NULL|        Reims|    NULL|     51100|   France|     EMEA|        Henriot|            Paul|   Small|\n|      10134|             41|    94.74|              2|3884.34|  7/1/2003 0:00|Shipped|     3|       7|   2003|Motorcycles|  95|   S10_1678|     Lyon Souveniers|+33 1 46 62 7555|27 rue du Colonel...|        NULL|        Paris|    NULL|     75508|   France|     EMEA|       Da Cunha|          Daniel|  Medium|\n|      10145|             45|    83.26|              6| 3746.7| 8/25/2003 0:00|Shipped|     3|       8|   2003|Motorcycles|  95|   S10_1678|   Toys4GrownUps.com|      6265557265|  78934 Hillside Dr.|        NULL|     Pasadena|      CA|     90003|      USA|       NA|          Young|           Julie|  Medium|\n|      10159|             49|    100.0|             14|5205.27|10/10/2003 0:00|Shipped|     4|      10|   2003|Motorcycles|  95|   S10_1678|Corporate Gift Id...|      6505551386|     7734 Strong St.|        NULL|San Francisco|      CA|      NULL|      USA|       NA|          Brown|           Julie|  Medium|\n|      10168|             36|    96.66|              1|3479.76|10/28/2003 0:00|Shipped|     4|      10|   2003|Motorcycles|  95|   S10_1678|Technics Stores Inc.|      6505556809|   9408 Furth Circle|        NULL|   Burlingame|      CA|     94217|      USA|       NA|         Hirano|            Juri|  Medium|\n|      10180|             29|    86.13|              9|2497.77|11/11/2003 0:00|Shipped|     4|      11|   2003|Motorcycles|  95|   S10_1678|Daedalus Designs ...|      20.16.1555|184, chausse de T...|        NULL|        Lille|    NULL|     59000|   France|     EMEA|          Rance|         Martine|   Small|\n|      10188|             48|    100.0|              1|5512.32|11/18/2003 0:00|Shipped|     4|      11|   2003|Motorcycles|  95|   S10_1678|        Herkku Gifts|   +47 2267 3215|Drammen 121, PR 7...|        NULL|       Bergen|    NULL|    N 5804|   Norway|     EMEA|         Oeztan|          Veysel|  Medium|\n|      10201|             22|    98.57|              2|2168.54| 12/1/2003 0:00|Shipped|     4|      12|   2003|Motorcycles|  95|   S10_1678|     Mini Wheels Co.|      6505555787|5557 North Pendal...|        NULL|San Francisco|      CA|      NULL|      USA|       NA|         Murphy|           Julie|   Small|\n|      10211|             41|    100.0|             14|4708.44| 1/15/2004 0:00|Shipped|     1|       1|   2004|Motorcycles|  95|   S10_1678|    Auto Canal Petit|  (1) 47.55.6555|   25, rue Lauriston|        NULL|        Paris|    NULL|     75016|   France|     EMEA|        Perrier|       Dominique|  Medium|\n|      10223|             37|    100.0|              1|3965.66| 2/20/2004 0:00|Shipped|     1|       2|   2004|Motorcycles|  95|   S10_1678|Australian Collec...|    03 9520 4555|   636 St Kilda Road|     Level 3|    Melbourne|Victoria|      3004|Australia|     APAC|       Ferguson|           Peter|  Medium|\n|      10237|             23|    100.0|              7|2333.12|  4/5/2004 0:00|Shipped|     2|       4|   2004|Motorcycles|  95|   S10_1678|     Vitachrome Inc.|      2125551500|   2678 Kingston Rd.|   Suite 101|          NYC|      NY|     10022|      USA|       NA|          Frick|         Michael|   Small|\n|      10251|             28|    100.0|              2|3188.64| 5/18/2004 0:00|Shipped|     2|       5|   2004|Motorcycles|  95|   S10_1678|Tekni Collectable...|      2015559350|       7476 Moss Rd.|        NULL|       Newark|      NJ|     94019|      USA|       NA|          Brown|         William|  Medium|\n|      10263|             34|    100.0|              2|3676.76| 6/28/2004 0:00|Shipped|     2|       6|   2004|Motorcycles|  95|   S10_1678|     Gift Depot Inc.|      2035552570| 25593 South Bay Ln.|        NULL|  Bridgewater|      CT|     97562|      USA|       NA|           King|           Julie|  Medium|\n|      10275|             45|    92.83|              1|4177.35| 7/23/2004 0:00|Shipped|     3|       7|   2004|Motorcycles|  95|   S10_1678|   La Rochelle Gifts|      40.67.8555|67, rue des Cinqu...|        NULL|       Nantes|    NULL|     44000|   France|     EMEA|        Labrune|          Janine|  Medium|\n|      10285|             36|    100.0|              6|4099.68| 8/27/2004 0:00|Shipped|     3|       8|   2004|Motorcycles|  95|   S10_1678|Marta's Replicas Co.|      6175558555| 39323 Spinnaker Dr.|        NULL|    Cambridge|      MA|     51247|      USA|       NA|      Hernandez|           Marta|  Medium|\n|      10299|             23|    100.0|              9|2597.39| 9/30/2004 0:00|Shipped|     3|       9|   2004|Motorcycles|  95|   S10_1678|Toys of Finland, Co.|     90-224 8555|       Keskuskatu 45|        NULL|     Helsinki|    NULL|     21240|  Finland|     EMEA|      Karttunen|           Matti|   Small|\n|      10309|             41|    100.0|              5|4394.38|10/15/2004 0:00|Shipped|     4|      10|   2004|Motorcycles|  95|   S10_1678|  Baane Mini Imports|      07-98 9555|Erling Skakkes ga...|        NULL|      Stavern|    NULL|      4110|   Norway|     EMEA|     Bergulfsen|           Jonas|  Medium|\n|      10318|             46|    94.74|              1|4358.04| 11/2/2004 0:00|Shipped|     4|      11|   2004|Motorcycles|  95|   S10_1678|Diecast Classics ...|      2155551555|    7586 Pompton St.|        NULL|    Allentown|      PA|     70267|      USA|       NA|             Yu|           Kyung|  Medium|\n|      10329|             42|    100.0|              1|4396.14|11/15/2004 0:00|Shipped|     4|      11|   2004|Motorcycles|  95|   S10_1678|   Land of Toys Inc.|      2125557818|897 Long Airport ...|        NULL|          NYC|      NY|     10022|      USA|       NA|             Yu|            Kwai|  Medium|\n|      10341|             41|    100.0|              9|7737.93|11/24/2004 0:00|Shipped|     4|      11|   2004|Motorcycles|  95|   S10_1678|Salzburg Collecta...|       6562-9555|         Geislweg 14|        NULL|     Salzburg|    NULL|      5020|  Austria|     EMEA|          Pipps|           Georg|   Large|\n|      10361|             20|    72.55|             13| 1451.0|12/17/2004 0:00|Shipped|     4|      12|   2004|Motorcycles|  95|   S10_1678|Souveniers And Th...| +61 2 9495 8555|Monitor Money Bui...|     Level 6|    Chatswood|     NSW|      2067|Australia|     APAC|         Huxley|          Adrian|   Small|\n|      10375|             21|    34.91|             12| 733.11|  2/3/2005 0:00|Shipped|     1|       2|   2005|Motorcycles|  95|   S10_1678|   La Rochelle Gifts|      40.67.8555|67, rue des Cinqu...|        NULL|       Nantes|    NULL|     44000|   France|     EMEA|        Labrune|          Janine|   Small|\n|      10388|             42|    76.36|              4|3207.12|  3/3/2005 0:00|Shipped|     1|       3|   2005|Motorcycles|  95|   S10_1678|    FunGiftIdeas.com|      5085552555|   1785 First Street|        NULL|  New Bedford|      MA|     50553|      USA|       NA|        Benitez|         Violeta|  Medium|\n|      10403|             24|    100.0|              7|2434.56|  4/8/2005 0:00|Shipped|     2|       4|   2005|Motorcycles|  95|   S10_1678|UK Collectables, ...|  (171) 555-2282|Berkeley Gardens ...|        NULL|    Liverpool|    NULL|   WX1 6LT|       UK|     EMEA|          Devon|       Elizabeth|   Small|\n+-----------+---------------+---------+---------------+-------+---------------+-------+------+--------+-------+-----------+----+-----------+--------------------+----------------+--------------------+------------+-------------+--------+----------+---------+---------+---------------+----------------+--------+\nonly showing top 25 rows\n\n"
     ]
    }
   ],
   "source": [
    "df = spark.read.csv(\"abfss://raw@dpstorage21.dfs.core.windows.net/sales_data.csv\", header=True, inferSchema=\"true\");\n",
    "df.show(25)"
   ]
  },
  {
   "cell_type": "code",
   "execution_count": 0,
   "metadata": {
    "application/vnd.databricks.v1+cell": {
     "cellMetadata": {
      "byteLimit": 2048000,
      "rowLimit": 10000
     },
     "inputWidgets": {},
     "nuid": "08e684df-bc9c-4157-9e51-a0c0acfc523a",
     "showTitle": false,
     "tableResultSettingsMap": {},
     "title": ""
    }
   },
   "outputs": [
    {
     "output_type": "stream",
     "name": "stdout",
     "output_type": "stream",
     "text": [
      "Requirement already satisfied: fsspec in /local_disk0/.ephemeral_nfs/envs/pythonEnv-d6e7c3d8-5e10-4a75-823b-12c5ce7cba47/lib/python3.11/site-packages (2024.10.0)\n\u001B[43mNote: you may need to restart the kernel using %restart_python or dbutils.library.restartPython() to use updated packages.\u001B[0m\n"
     ]
    }
   ],
   "source": [
    "%python\n",
    "# Install the required package\n",
    "%pip install fsspec"
   ]
  },
  {
   "cell_type": "code",
   "execution_count": 0,
   "metadata": {
    "application/vnd.databricks.v1+cell": {
     "cellMetadata": {
      "byteLimit": 2048000,
      "rowLimit": 10000
     },
     "inputWidgets": {},
     "nuid": "a92a4f03-802a-40aa-ad32-68ef711ac05c",
     "showTitle": false,
     "tableResultSettingsMap": {},
     "title": ""
    }
   },
   "outputs": [],
   "source": [
    " %restart_python"
   ]
  },
  {
   "cell_type": "code",
   "execution_count": 0,
   "metadata": {
    "application/vnd.databricks.v1+cell": {
     "cellMetadata": {
      "byteLimit": 2048000,
      "rowLimit": 10000
     },
     "inputWidgets": {},
     "nuid": "7f8a321f-f09f-4650-8acb-8c7269e3c7a1",
     "showTitle": false,
     "tableResultSettingsMap": {},
     "title": ""
    }
   },
   "outputs": [
    {
     "output_type": "stream",
     "name": "stdout",
     "output_type": "stream",
     "text": [
      "Index(['ORDERNUMBER', 'QUANTITYORDERED', 'PRICEEACH', 'ORDERLINENUMBER',\n       'SALES', 'ORDERDATE', 'STATUS', 'QTR_ID', 'MONTH_ID', 'YEAR_ID',\n       'PRODUCTLINE', 'MSRP', 'PRODUCTCODE', 'CUSTOMERNAME', 'PHONE',\n       'ADDRESSLINE1', 'ADDRESSLINE2', 'CITY', 'STATE', 'POSTALCODE',\n       'COUNTRY', 'TERRITORY', 'CONTACTLASTNAME', 'CONTACTFIRSTNAME',\n       'DEALSIZE'],\n      dtype='object')\nColumn 'STATE' not found in the DataFrame\n"
     ]
    },
    {
     "output_type": "stream",
     "name": "stderr",
     "output_type": "stream",
     "text": [
      "/root/.ipykernel/5368/command-583973560225802-3323106881:27: SettingWithCopyWarning: \nA value is trying to be set on a copy of a slice from a DataFrame.\nTry using .loc[row_indexer,col_indexer] = value instead\n\nSee the caveats in the documentation: https://pandas.pydata.org/pandas-docs/stable/user_guide/indexing.html#returning-a-view-versus-a-copy\n  sales_data_cleaned['POSTALCODE'] = sales_data_cleaned['POSTALCODE'].fillna(0)\n/root/.ipykernel/5368/command-583973560225802-3323106881:34: SettingWithCopyWarning: \nA value is trying to be set on a copy of a slice from a DataFrame.\nTry using .loc[row_indexer,col_indexer] = value instead\n\nSee the caveats in the documentation: https://pandas.pydata.org/pandas-docs/stable/user_guide/indexing.html#returning-a-view-versus-a-copy\n  sales_data_cleaned['ORDERDATE'] = pd.to_datetime(sales_data_cleaned['ORDERDATE'])\n/databricks/spark/python/pyspark/sql/pandas/conversion.py:477: UserWarning: createDataFrame attempted Arrow optimization because 'spark.sql.execution.arrow.pyspark.enabled' is set to true; however, failed by the reason below:\n  Expected bytes, got a 'int' object\nAttempting non-optimization as 'spark.sql.execution.arrow.pyspark.fallback.enabled' is set to true.\n  warn(msg)\n"
     ]
    },
    {
     "output_type": "stream",
     "name": "stdout",
     "output_type": "stream",
     "text": [
      "Data cleaning complete. Cleaned dataset saved.\n"
     ]
    }
   ],
   "source": [
    "%python\n",
    "from pyspark.sql.functions import col\n",
    "import pandas as pd\n",
    "\n",
    "# Load data using Spark\n",
    "file_path = 'abfss://raw@dpstorage21.dfs.core.windows.net/sales_data.csv'  # Update for Databricks FileStore\n",
    "sales_data_spark = spark.read.csv(file_path, header=True, inferSchema=True, encoding='latin1')\n",
    "\n",
    "# Convert Spark DataFrame to Pandas DataFrame\n",
    "sales_data = sales_data_spark.toPandas()\n",
    "\n",
    "# Print column names to verify\n",
    "print(sales_data.columns)\n",
    "\n",
    "# 1. Handle Missing Values\n",
    "# Drop columns with >50% missing values\n",
    "threshold = len(sales_data) * 0.5\n",
    "sales_data_cleaned = sales_data.dropna(axis=1, thresh=threshold)\n",
    "\n",
    "# Impute missing values in 'STATE' with 'Unknown'\n",
    "if 'STATE' in sales_data_cleaned.columns:\n",
    "    sales_data_cleaned['STATE'] = sales_data_cleaned['STATE'].fillna('Unknown')\n",
    "else:\n",
    "    print(\"Column 'STATE' not found in the DataFrame\")\n",
    "\n",
    "# Impute missing values in 'POSTALCODE' with 0\n",
    "if 'POSTALCODE' in sales_data_cleaned.columns:\n",
    "    sales_data_cleaned['POSTALCODE'] = sales_data_cleaned['POSTALCODE'].fillna(0)\n",
    "else:\n",
    "    print(\"Column 'POSTALCODE' not found in the DataFrame\")\n",
    "\n",
    "# 2. Convert Data Types\n",
    "# Convert 'ORDERDATE' to datetime format\n",
    "if 'ORDERDATE' in sales_data_cleaned.columns:\n",
    "    sales_data_cleaned['ORDERDATE'] = pd.to_datetime(sales_data_cleaned['ORDERDATE'])\n",
    "else:\n",
    "    print(\"Column 'ORDERDATE' not found in the DataFrame\")\n",
    "\n",
    "# 3. Remove Duplicates\n",
    "sales_data_cleaned = sales_data_cleaned.drop_duplicates()\n",
    "\n",
    "# 4. Filter Invalid or Outlier Data\n",
    "# Remove negative or zero values in 'SALES'\n",
    "if 'SALES' in sales_data_cleaned.columns:\n",
    "    sales_data_cleaned = sales_data_cleaned[sales_data_cleaned['SALES'] > 0]\n",
    "else:\n",
    "    print(\"Column 'SALES' not found in the DataFrame\")\n",
    "\n",
    "# 5. Add New Features\n",
    "# Create a 'PROFIT' column: Assume a 20% profit margin\n",
    "if 'SALES' in sales_data_cleaned.columns:\n",
    "    sales_data_cleaned['PROFIT'] = sales_data_cleaned['SALES'] * 0.2\n",
    "else:\n",
    "    print(\"Column 'SALES' not found in the DataFrame\")\n",
    "\n",
    "# Convert cleaned Pandas DataFrame back to Spark DataFrame\n",
    "sales_data_cleaned_spark = spark.createDataFrame(sales_data_cleaned)\n",
    "\n",
    "# Save cleaned data\n",
    "output_path = 'abfss://processed@dpstorage21.dfs.core.windows.net/sales_data_cleaned.csv'  # Update for Databricks FileStore\n",
    "sales_data_cleaned_spark.write.csv(output_path, header=True, mode='overwrite')\n",
    "\n",
    "print(\"Data cleaning complete. Cleaned dataset saved.\")"
   ]
  }
 ],
 "metadata": {
  "application/vnd.databricks.v1+notebook": {
   "dashboards": [],
   "environmentMetadata": {
    "base_environment": "",
    "client": "1"
   },
   "language": "python",
   "notebookMetadata": {
    "pythonIndentUnit": 4
   },
   "notebookName": "DataCleaning",
   "widgets": {}
  },
  "language_info": {
   "name": "python"
  }
 },
 "nbformat": 4,
 "nbformat_minor": 0
}