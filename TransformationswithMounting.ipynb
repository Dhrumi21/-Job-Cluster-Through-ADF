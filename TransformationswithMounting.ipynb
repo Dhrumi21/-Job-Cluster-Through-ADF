{
 "cells": [
  {
   "cell_type": "code",
   "execution_count": 0,
   "metadata": {
    "application/vnd.databricks.v1+cell": {
     "cellMetadata": {
      "byteLimit": 2048000,
      "rowLimit": 10000
     },
     "inputWidgets": {},
     "nuid": "83a457e5-7618-4ecb-8f20-26cd74cf2b97",
     "showTitle": false,
     "tableResultSettingsMap": {},
     "title": ""
    }
   },
   "outputs": [],
   "source": [
    "from pyspark.sql import SparkSession\n",
    "from pyspark.sql.functions import col, sum, avg, count"
   ]
  },
  {
   "cell_type": "code",
   "execution_count": 0,
   "metadata": {
    "application/vnd.databricks.v1+cell": {
     "cellMetadata": {
      "byteLimit": 2048000,
      "rowLimit": 10000
     },
     "inputWidgets": {},
     "nuid": "fbd9bc66-28aa-4fa6-b839-fffe095edb04",
     "showTitle": false,
     "tableResultSettingsMap": {},
     "title": ""
    }
   },
   "outputs": [],
   "source": [
    "# Initialize SparkSession\n",
    "spark = SparkSession.builder.appName(\"SalesDataTransformation\").getOrCreate()"
   ]
  },
  {
   "cell_type": "code",
   "execution_count": 0,
   "metadata": {
    "application/vnd.databricks.v1+cell": {
     "cellMetadata": {
      "byteLimit": 2048000,
      "rowLimit": 10000
     },
     "inputWidgets": {},
     "nuid": "defa09b0-0d21-4ff9-8eb5-8d5a0eacdb6f",
     "showTitle": false,
     "tableResultSettingsMap": {},
     "title": ""
    }
   },
   "outputs": [],
   "source": [
    "service_credential = \"p-J8Q~C6Fc8tFwtS-QAE-qFP9EPuXE4SV5McAc5Q\"\n",
    "application_id = \"552a69ea-ab44-4842-8a03-7bcc62f38926\"\n",
    "directory_id = \"b99772b5-42c9-4cf6-829d-232ec2fbe8e7\""
   ]
  },
  {
   "cell_type": "code",
   "execution_count": 0,
   "metadata": {
    "application/vnd.databricks.v1+cell": {
     "cellMetadata": {
      "byteLimit": 2048000,
      "rowLimit": 10000
     },
     "inputWidgets": {},
     "nuid": "e1f930c7-4349-4698-bea8-ab1033969f9b",
     "showTitle": false,
     "tableResultSettingsMap": {},
     "title": ""
    }
   },
   "outputs": [
    {
     "output_type": "display_data",
     "data": {
      "text/html": [
       "<style scoped>\n",
       "  .table-result-container {\n",
       "    max-height: 300px;\n",
       "    overflow: auto;\n",
       "  }\n",
       "  table, th, td {\n",
       "    border: 1px solid black;\n",
       "    border-collapse: collapse;\n",
       "  }\n",
       "  th, td {\n",
       "    padding: 5px;\n",
       "  }\n",
       "  th {\n",
       "    text-align: left;\n",
       "  }\n",
       "</style><div class='table-result-container'><table class='table-result'><thead style='background-color: white'><tr><th>CITY</th><th>count</th></tr></thead><tbody><tr><td>Minato-ku</td><td>32</td></tr><tr><td>Salzburg</td><td>40</td></tr><tr><td>Madrid</td><td>304</td></tr><tr><td>Allentown</td><td>31</td></tr><tr><td>Boras</td><td>38</td></tr><tr><td>Lule</td><td>19</td></tr><tr><td>White Plains</td><td>26</td></tr><tr><td>Singapore</td><td>79</td></tr><tr><td>Manchester</td><td>51</td></tr><tr><td>Brickhaven</td><td>47</td></tr><tr><td>Frankfurt</td><td>22</td></tr><tr><td>Philadelphia</td><td>44</td></tr><tr><td>Stavern</td><td>32</td></tr><tr><td>Los Angeles</td><td>14</td></tr><tr><td>Cambridge</td><td>38</td></tr><tr><td>Versailles</td><td>18</td></tr><tr><td>Lille</td><td>20</td></tr><tr><td>Oslo</td><td>24</td></tr><tr><td>Nantes</td><td>60</td></tr><tr><td>Marseille</td><td>25</td></tr><tr><td>Bridgewater</td><td>25</td></tr><tr><td>Dublin</td><td>16</td></tr><tr><td>San Francisco</td><td>62</td></tr><tr><td>San Diego</td><td>25</td></tr><tr><td>San Rafael</td><td>180</td></tr><tr><td>Gensve</td><td>31</td></tr><tr><td>London</td><td>38</td></tr><tr><td>Oulu</td><td>32</td></tr><tr><td>Bergamo</td><td>48</td></tr><tr><td>Brisbane</td><td>15</td></tr><tr><td>Montreal</td><td>22</td></tr><tr><td>Burbank</td><td>13</td></tr><tr><td>Burlingame</td><td>34</td></tr><tr><td>Graz</td><td>15</td></tr><tr><td>Charleroi</td><td>8</td></tr><tr><td>South Brisbane</td><td>15</td></tr><tr><td>Pasadena</td><td>30</td></tr><tr><td>Paris</td><td>70</td></tr><tr><td>Espoo</td><td>30</td></tr><tr><td>Lyon</td><td>41</td></tr><tr><td>Glendale</td><td>22</td></tr><tr><td>Newark</td><td>21</td></tr><tr><td>Bruxelles</td><td>25</td></tr><tr><td>Barcelona</td><td>23</td></tr><tr><td>Bergen</td><td>29</td></tr><tr><td>Vancouver</td><td>22</td></tr><tr><td>Cowes</td><td>26</td></tr><tr><td>North Sydney</td><td>46</td></tr><tr><td>Las Vegas</td><td>29</td></tr><tr><td>Toulouse</td><td>20</td></tr><tr><td>Strasbourg</td><td>19</td></tr><tr><td>Reims</td><td>41</td></tr><tr><td>Helsinki</td><td>30</td></tr><tr><td>New Haven</td><td>17</td></tr><tr><td>Reggio Emilia</td><td>39</td></tr><tr><td>San Jose</td><td>40</td></tr><tr><td>Melbourne</td><td>55</td></tr><tr><td>Makati City</td><td>26</td></tr><tr><td>Liverpool</td><td>29</td></tr><tr><td>Kobenhavn</td><td>36</td></tr><tr><td>Osaka</td><td>20</td></tr><tr><td>Torino</td><td>26</td></tr><tr><td>Sevilla</td><td>15</td></tr><tr><td>Aaarhus</td><td>27</td></tr><tr><td>Glen Waverly</td><td>23</td></tr><tr><td>Koln</td><td>26</td></tr><tr><td>New Bedford</td><td>61</td></tr><tr><td>Tsawassen</td><td>26</td></tr><tr><td>Chatswood</td><td>46</td></tr><tr><td>Boston</td><td>44</td></tr><tr><td>Munich</td><td>14</td></tr><tr><td>NYC</td><td>152</td></tr><tr><td>Nashua</td><td>34</td></tr></tbody></table></div>"
      ]
     },
     "metadata": {
      "application/vnd.databricks.v1+output": {
       "addedWidgets": {},
       "aggData": [],
       "aggError": "",
       "aggOverflow": false,
       "aggSchema": [],
       "aggSeriesLimitReached": false,
       "aggType": "",
       "arguments": {},
       "columnCustomDisplayInfos": {},
       "data": [
        [
         "Minato-ku",
         32
        ],
        [
         "Salzburg",
         40
        ],
        [
         "Madrid",
         304
        ],
        [
         "Allentown",
         31
        ],
        [
         "Boras",
         38
        ],
        [
         "Lule",
         19
        ],
        [
         "White Plains",
         26
        ],
        [
         "Singapore",
         79
        ],
        [
         "Manchester",
         51
        ],
        [
         "Brickhaven",
         47
        ],
        [
         "Frankfurt",
         22
        ],
        [
         "Philadelphia",
         44
        ],
        [
         "Stavern",
         32
        ],
        [
         "Los Angeles",
         14
        ],
        [
         "Cambridge",
         38
        ],
        [
         "Versailles",
         18
        ],
        [
         "Lille",
         20
        ],
        [
         "Oslo",
         24
        ],
        [
         "Nantes",
         60
        ],
        [
         "Marseille",
         25
        ],
        [
         "Bridgewater",
         25
        ],
        [
         "Dublin",
         16
        ],
        [
         "San Francisco",
         62
        ],
        [
         "San Diego",
         25
        ],
        [
         "San Rafael",
         180
        ],
        [
         "Gensve",
         31
        ],
        [
         "London",
         38
        ],
        [
         "Oulu",
         32
        ],
        [
         "Bergamo",
         48
        ],
        [
         "Brisbane",
         15
        ],
        [
         "Montreal",
         22
        ],
        [
         "Burbank",
         13
        ],
        [
         "Burlingame",
         34
        ],
        [
         "Graz",
         15
        ],
        [
         "Charleroi",
         8
        ],
        [
         "South Brisbane",
         15
        ],
        [
         "Pasadena",
         30
        ],
        [
         "Paris",
         70
        ],
        [
         "Espoo",
         30
        ],
        [
         "Lyon",
         41
        ],
        [
         "Glendale",
         22
        ],
        [
         "Newark",
         21
        ],
        [
         "Bruxelles",
         25
        ],
        [
         "Barcelona",
         23
        ],
        [
         "Bergen",
         29
        ],
        [
         "Vancouver",
         22
        ],
        [
         "Cowes",
         26
        ],
        [
         "North Sydney",
         46
        ],
        [
         "Las Vegas",
         29
        ],
        [
         "Toulouse",
         20
        ],
        [
         "Strasbourg",
         19
        ],
        [
         "Reims",
         41
        ],
        [
         "Helsinki",
         30
        ],
        [
         "New Haven",
         17
        ],
        [
         "Reggio Emilia",
         39
        ],
        [
         "San Jose",
         40
        ],
        [
         "Melbourne",
         55
        ],
        [
         "Makati City",
         26
        ],
        [
         "Liverpool",
         29
        ],
        [
         "Kobenhavn",
         36
        ],
        [
         "Osaka",
         20
        ],
        [
         "Torino",
         26
        ],
        [
         "Sevilla",
         15
        ],
        [
         "Aaarhus",
         27
        ],
        [
         "Glen Waverly",
         23
        ],
        [
         "Koln",
         26
        ],
        [
         "New Bedford",
         61
        ],
        [
         "Tsawassen",
         26
        ],
        [
         "Chatswood",
         46
        ],
        [
         "Boston",
         44
        ],
        [
         "Munich",
         14
        ],
        [
         "NYC",
         152
        ],
        [
         "Nashua",
         34
        ]
       ],
       "datasetInfos": [],
       "dbfsResultPath": null,
       "isJsonSchema": true,
       "metadata": {},
       "overflow": false,
       "plotOptions": {
        "customPlotOptions": {},
        "displayType": "table",
        "pivotAggregation": null,
        "pivotColumns": null,
        "xColumns": null,
        "yColumns": null
       },
       "removedWidgets": [],
       "schema": [
        {
         "metadata": "{}",
         "name": "CITY",
         "type": "\"string\""
        },
        {
         "metadata": "{}",
         "name": "count",
         "type": "\"long\""
        }
       ],
       "type": "table"
      }
     },
     "output_type": "display_data"
    }
   ],
   "source": [
    "%python\n",
    "# Define the mount point\n",
    "mount_point =  f\"/mnt/dpstorage21/raw\"  \n",
    "\n",
    "# Path to the file\n",
    "file_path = f\"dbfs:{mount_point}/sales_data.csv\"  # Corrected file path\n",
    "\n",
    "# Load the dataset into Spark DataFrame\n",
    "df = spark.read.csv(file_path, header=True, inferSchema=True)\n",
    "\n",
    "# Example Transformation\n",
    "grouped_df = df.groupBy(\"CITY\").count()  # Replace 'CITY' with the relevant column if needed\n",
    "display(grouped_df)"
   ]
  },
  {
   "cell_type": "code",
   "execution_count": 0,
   "metadata": {
    "application/vnd.databricks.v1+cell": {
     "cellMetadata": {
      "byteLimit": 2048000,
      "rowLimit": 10000
     },
     "inputWidgets": {},
     "nuid": "12775830-d028-4bc4-b0e7-d73dd0e23c29",
     "showTitle": false,
     "tableResultSettingsMap": {},
     "title": ""
    }
   },
   "outputs": [
    {
     "output_type": "display_data",
     "data": {
      "text/html": [
       "<style scoped>\n",
       "  .table-result-container {\n",
       "    max-height: 300px;\n",
       "    overflow: auto;\n",
       "  }\n",
       "  table, th, td {\n",
       "    border: 1px solid black;\n",
       "    border-collapse: collapse;\n",
       "  }\n",
       "  th, td {\n",
       "    padding: 5px;\n",
       "  }\n",
       "  th {\n",
       "    text-align: left;\n",
       "  }\n",
       "</style><div class='table-result-container'><table class='table-result'><thead style='background-color: white'><tr><th>path</th><th>name</th><th>size</th><th>modificationTime</th></tr></thead><tbody><tr><td>abfss://processed@dpstorage21.dfs.core.windows.net/sales_data_cleaned.csv/_committed_1152607069564586946</td><td>_committed_1152607069564586946</td><td>743</td><td>1733418993000</td></tr><tr><td>abfss://processed@dpstorage21.dfs.core.windows.net/sales_data_cleaned.csv/_committed_1540883127444571944</td><td>_committed_1540883127444571944</td><td>735</td><td>1733402798000</td></tr><tr><td>abfss://processed@dpstorage21.dfs.core.windows.net/sales_data_cleaned.csv/_committed_1654751019215109124</td><td>_committed_1654751019215109124</td><td>731</td><td>1733409993000</td></tr><tr><td>abfss://processed@dpstorage21.dfs.core.windows.net/sales_data_cleaned.csv/_committed_1767503909138889466</td><td>_committed_1767503909138889466</td><td>735</td><td>1733416296000</td></tr><tr><td>abfss://processed@dpstorage21.dfs.core.windows.net/sales_data_cleaned.csv/_committed_2117247239530729998</td><td>_committed_2117247239530729998</td><td>735</td><td>1733415398000</td></tr><tr><td>abfss://processed@dpstorage21.dfs.core.windows.net/sales_data_cleaned.csv/_committed_2242795279375345302</td><td>_committed_2242795279375345302</td><td>731</td><td>1733411795000</td></tr><tr><td>abfss://processed@dpstorage21.dfs.core.windows.net/sales_data_cleaned.csv/_committed_2330134197538231787</td><td>_committed_2330134197538231787</td><td>743</td><td>1733427994000</td></tr><tr><td>abfss://processed@dpstorage21.dfs.core.windows.net/sales_data_cleaned.csv/_committed_2460340890495503222</td><td>_committed_2460340890495503222</td><td>731</td><td>1733368733000</td></tr><tr><td>abfss://processed@dpstorage21.dfs.core.windows.net/sales_data_cleaned.csv/_committed_2582301523205080898</td><td>_committed_2582301523205080898</td><td>743</td><td>1733419895000</td></tr><tr><td>abfss://processed@dpstorage21.dfs.core.windows.net/sales_data_cleaned.csv/_committed_26059231523833362</td><td>_committed_26059231523833362</td><td>727</td><td>1733396494000</td></tr><tr><td>abfss://processed@dpstorage21.dfs.core.windows.net/sales_data_cleaned.csv/_committed_2627231913564103296</td><td>_committed_2627231913564103296</td><td>743</td><td>1733428893000</td></tr><tr><td>abfss://processed@dpstorage21.dfs.core.windows.net/sales_data_cleaned.csv/_committed_292884017831624736</td><td>_committed_292884017831624736</td><td>723</td><td>1733397395000</td></tr><tr><td>abfss://processed@dpstorage21.dfs.core.windows.net/sales_data_cleaned.csv/_committed_2965916326962152847</td><td>_committed_2965916326962152847</td><td>739</td><td>1733418115000</td></tr><tr><td>abfss://processed@dpstorage21.dfs.core.windows.net/sales_data_cleaned.csv/_committed_3242061850506356176</td><td>_committed_3242061850506356176</td><td>739</td><td>1733426197000</td></tr><tr><td>abfss://processed@dpstorage21.dfs.core.windows.net/sales_data_cleaned.csv/_committed_3287383530463226242</td><td>_committed_3287383530463226242</td><td>735</td><td>1733403695000</td></tr><tr><td>abfss://processed@dpstorage21.dfs.core.windows.net/sales_data_cleaned.csv/_committed_3687185046017215827</td><td>_committed_3687185046017215827</td><td>743</td><td>1733421692000</td></tr><tr><td>abfss://processed@dpstorage21.dfs.core.windows.net/sales_data_cleaned.csv/_committed_3790884479230657411</td><td>_committed_3790884479230657411</td><td>735</td><td>1733407294000</td></tr><tr><td>abfss://processed@dpstorage21.dfs.core.windows.net/sales_data_cleaned.csv/_committed_3902600585416669327</td><td>_committed_3902600585416669327</td><td>727</td><td>1733369693000</td></tr><tr><td>abfss://processed@dpstorage21.dfs.core.windows.net/sales_data_cleaned.csv/_committed_4419384885484070802</td><td>_committed_4419384885484070802</td><td>731</td><td>1733395596000</td></tr><tr><td>abfss://processed@dpstorage21.dfs.core.windows.net/sales_data_cleaned.csv/_committed_4432105550067326948</td><td>_committed_4432105550067326948</td><td>735</td><td>1733399203000</td></tr><tr><td>abfss://processed@dpstorage21.dfs.core.windows.net/sales_data_cleaned.csv/_committed_4499776499068045179</td><td>_committed_4499776499068045179</td><td>727</td><td>1733394693000</td></tr><tr><td>abfss://processed@dpstorage21.dfs.core.windows.net/sales_data_cleaned.csv/_committed_452733333514060253</td><td>_committed_452733333514060253</td><td>731</td><td>1733413602000</td></tr><tr><td>abfss://processed@dpstorage21.dfs.core.windows.net/sales_data_cleaned.csv/_committed_4572999115513912744</td><td>_committed_4572999115513912744</td><td>735</td><td>1733400090000</td></tr><tr><td>abfss://processed@dpstorage21.dfs.core.windows.net/sales_data_cleaned.csv/_committed_5169356236541516397</td><td>_committed_5169356236541516397</td><td>735</td><td>1733412694000</td></tr><tr><td>abfss://processed@dpstorage21.dfs.core.windows.net/sales_data_cleaned.csv/_committed_5183371500699073350</td><td>_committed_5183371500699073350</td><td>735</td><td>1733417192000</td></tr><tr><td>abfss://processed@dpstorage21.dfs.core.windows.net/sales_data_cleaned.csv/_committed_5618203882637700425</td><td>_committed_5618203882637700425</td><td>743</td><td>1733427095000</td></tr><tr><td>abfss://processed@dpstorage21.dfs.core.windows.net/sales_data_cleaned.csv/_committed_5646855841300421139</td><td>_committed_5646855841300421139</td><td>743</td><td>1733420794000</td></tr><tr><td>abfss://processed@dpstorage21.dfs.core.windows.net/sales_data_cleaned.csv/_committed_576393305619914615</td><td>_committed_576393305619914615</td><td>731</td><td>1733404595000</td></tr><tr><td>abfss://processed@dpstorage21.dfs.core.windows.net/sales_data_cleaned.csv/_committed_5790219034973124292</td><td>_committed_5790219034973124292</td><td>746</td><td>1733365413000</td></tr><tr><td>abfss://processed@dpstorage21.dfs.core.windows.net/sales_data_cleaned.csv/_committed_5934896486712127558</td><td>_committed_5934896486712127558</td><td>743</td><td>1733423493000</td></tr><tr><td>abfss://processed@dpstorage21.dfs.core.windows.net/sales_data_cleaned.csv/_committed_654519818574611123</td><td>_committed_654519818574611123</td><td>731</td><td>1733409100000</td></tr><tr><td>abfss://processed@dpstorage21.dfs.core.windows.net/sales_data_cleaned.csv/_committed_6666863048391299753</td><td>_committed_6666863048391299753</td><td>727</td><td>1733393797000</td></tr><tr><td>abfss://processed@dpstorage21.dfs.core.windows.net/sales_data_cleaned.csv/_committed_675275959731260112</td><td>_committed_675275959731260112</td><td>739</td><td>1733425295000</td></tr><tr><td>abfss://processed@dpstorage21.dfs.core.windows.net/sales_data_cleaned.csv/_committed_6839452280581671134</td><td>_committed_6839452280581671134</td><td>727</td><td>1733393416000</td></tr><tr><td>abfss://processed@dpstorage21.dfs.core.windows.net/sales_data_cleaned.csv/_committed_6908028000630958275</td><td>_committed_6908028000630958275</td><td>743</td><td>1733424394000</td></tr><tr><td>abfss://processed@dpstorage21.dfs.core.windows.net/sales_data_cleaned.csv/_committed_7065693139505918454</td><td>_committed_7065693139505918454</td><td>735</td><td>1733400993000</td></tr><tr><td>abfss://processed@dpstorage21.dfs.core.windows.net/sales_data_cleaned.csv/_committed_7094898165669379374</td><td>_committed_7094898165669379374</td><td>731</td><td>1733414514000</td></tr><tr><td>abfss://processed@dpstorage21.dfs.core.windows.net/sales_data_cleaned.csv/_committed_7322814837976141126</td><td>_committed_7322814837976141126</td><td>731</td><td>1733405493000</td></tr><tr><td>abfss://processed@dpstorage21.dfs.core.windows.net/sales_data_cleaned.csv/_committed_7424992493315633691</td><td>_committed_7424992493315633691</td><td>735</td><td>1733401891000</td></tr><tr><td>abfss://processed@dpstorage21.dfs.core.windows.net/sales_data_cleaned.csv/_committed_7481574776296919021</td><td>_committed_7481574776296919021</td><td>743</td><td>1733422594000</td></tr><tr><td>abfss://processed@dpstorage21.dfs.core.windows.net/sales_data_cleaned.csv/_committed_7885583415011259304</td><td>_committed_7885583415011259304</td><td>735</td><td>1733760324000</td></tr><tr><td>abfss://processed@dpstorage21.dfs.core.windows.net/sales_data_cleaned.csv/_committed_8551811037166819618</td><td>_committed_8551811037166819618</td><td>735</td><td>1733406397000</td></tr><tr><td>abfss://processed@dpstorage21.dfs.core.windows.net/sales_data_cleaned.csv/_committed_8616199049491666436</td><td>_committed_8616199049491666436</td><td>735</td><td>1733408194000</td></tr><tr><td>abfss://processed@dpstorage21.dfs.core.windows.net/sales_data_cleaned.csv/_committed_9116779737281273400</td><td>_committed_9116779737281273400</td><td>731</td><td>1733398304000</td></tr><tr><td>abfss://processed@dpstorage21.dfs.core.windows.net/sales_data_cleaned.csv/_committed_988747237393454088</td><td>_committed_988747237393454088</td><td>731</td><td>1733410896000</td></tr><tr><td>abfss://processed@dpstorage21.dfs.core.windows.net/sales_data_cleaned.csv/_committed_vacuum3170557762684022480</td><td>_committed_vacuum3170557762684022480</td><td>1507</td><td>1733760325000</td></tr><tr><td>abfss://processed@dpstorage21.dfs.core.windows.net/sales_data_cleaned.csv/_started_7885583415011259304</td><td>_started_7885583415011259304</td><td>0</td><td>1733760324000</td></tr><tr><td>abfss://processed@dpstorage21.dfs.core.windows.net/sales_data_cleaned.csv/part-00000-tid-7885583415011259304-98b19eca-5345-4c0d-ab14-307be564adea-10-1-c000.csv</td><td>part-00000-tid-7885583415011259304-98b19eca-5345-4c0d-ab14-307be564adea-10-1-c000.csv</td><td>146330</td><td>1733760324000</td></tr><tr><td>abfss://processed@dpstorage21.dfs.core.windows.net/sales_data_cleaned.csv/part-00001-tid-7885583415011259304-98b19eca-5345-4c0d-ab14-307be564adea-11-1-c000.csv</td><td>part-00001-tid-7885583415011259304-98b19eca-5345-4c0d-ab14-307be564adea-11-1-c000.csv</td><td>146203</td><td>1733760324000</td></tr><tr><td>abfss://processed@dpstorage21.dfs.core.windows.net/sales_data_cleaned.csv/part-00002-tid-7885583415011259304-98b19eca-5345-4c0d-ab14-307be564adea-12-1-c000.csv</td><td>part-00002-tid-7885583415011259304-98b19eca-5345-4c0d-ab14-307be564adea-12-1-c000.csv</td><td>144539</td><td>1733760324000</td></tr><tr><td>abfss://processed@dpstorage21.dfs.core.windows.net/sales_data_cleaned.csv/part-00003-tid-7885583415011259304-98b19eca-5345-4c0d-ab14-307be564adea-13-1-c000.csv</td><td>part-00003-tid-7885583415011259304-98b19eca-5345-4c0d-ab14-307be564adea-13-1-c000.csv</td><td>144377</td><td>1733760324000</td></tr></tbody></table></div>"
      ]
     },
     "metadata": {
      "application/vnd.databricks.v1+output": {
       "addedWidgets": {},
       "aggData": [],
       "aggError": "",
       "aggOverflow": false,
       "aggSchema": [],
       "aggSeriesLimitReached": false,
       "aggType": "",
       "arguments": {},
       "columnCustomDisplayInfos": {},
       "data": [
        [
         "abfss://processed@dpstorage21.dfs.core.windows.net/sales_data_cleaned.csv/_committed_1152607069564586946",
         "_committed_1152607069564586946",
         743,
         1733418993000
        ],
        [
         "abfss://processed@dpstorage21.dfs.core.windows.net/sales_data_cleaned.csv/_committed_1540883127444571944",
         "_committed_1540883127444571944",
         735,
         1733402798000
        ],
        [
         "abfss://processed@dpstorage21.dfs.core.windows.net/sales_data_cleaned.csv/_committed_1654751019215109124",
         "_committed_1654751019215109124",
         731,
         1733409993000
        ],
        [
         "abfss://processed@dpstorage21.dfs.core.windows.net/sales_data_cleaned.csv/_committed_1767503909138889466",
         "_committed_1767503909138889466",
         735,
         1733416296000
        ],
        [
         "abfss://processed@dpstorage21.dfs.core.windows.net/sales_data_cleaned.csv/_committed_2117247239530729998",
         "_committed_2117247239530729998",
         735,
         1733415398000
        ],
        [
         "abfss://processed@dpstorage21.dfs.core.windows.net/sales_data_cleaned.csv/_committed_2242795279375345302",
         "_committed_2242795279375345302",
         731,
         1733411795000
        ],
        [
         "abfss://processed@dpstorage21.dfs.core.windows.net/sales_data_cleaned.csv/_committed_2330134197538231787",
         "_committed_2330134197538231787",
         743,
         1733427994000
        ],
        [
         "abfss://processed@dpstorage21.dfs.core.windows.net/sales_data_cleaned.csv/_committed_2460340890495503222",
         "_committed_2460340890495503222",
         731,
         1733368733000
        ],
        [
         "abfss://processed@dpstorage21.dfs.core.windows.net/sales_data_cleaned.csv/_committed_2582301523205080898",
         "_committed_2582301523205080898",
         743,
         1733419895000
        ],
        [
         "abfss://processed@dpstorage21.dfs.core.windows.net/sales_data_cleaned.csv/_committed_26059231523833362",
         "_committed_26059231523833362",
         727,
         1733396494000
        ],
        [
         "abfss://processed@dpstorage21.dfs.core.windows.net/sales_data_cleaned.csv/_committed_2627231913564103296",
         "_committed_2627231913564103296",
         743,
         1733428893000
        ],
        [
         "abfss://processed@dpstorage21.dfs.core.windows.net/sales_data_cleaned.csv/_committed_292884017831624736",
         "_committed_292884017831624736",
         723,
         1733397395000
        ],
        [
         "abfss://processed@dpstorage21.dfs.core.windows.net/sales_data_cleaned.csv/_committed_2965916326962152847",
         "_committed_2965916326962152847",
         739,
         1733418115000
        ],
        [
         "abfss://processed@dpstorage21.dfs.core.windows.net/sales_data_cleaned.csv/_committed_3242061850506356176",
         "_committed_3242061850506356176",
         739,
         1733426197000
        ],
        [
         "abfss://processed@dpstorage21.dfs.core.windows.net/sales_data_cleaned.csv/_committed_3287383530463226242",
         "_committed_3287383530463226242",
         735,
         1733403695000
        ],
        [
         "abfss://processed@dpstorage21.dfs.core.windows.net/sales_data_cleaned.csv/_committed_3687185046017215827",
         "_committed_3687185046017215827",
         743,
         1733421692000
        ],
        [
         "abfss://processed@dpstorage21.dfs.core.windows.net/sales_data_cleaned.csv/_committed_3790884479230657411",
         "_committed_3790884479230657411",
         735,
         1733407294000
        ],
        [
         "abfss://processed@dpstorage21.dfs.core.windows.net/sales_data_cleaned.csv/_committed_3902600585416669327",
         "_committed_3902600585416669327",
         727,
         1733369693000
        ],
        [
         "abfss://processed@dpstorage21.dfs.core.windows.net/sales_data_cleaned.csv/_committed_4419384885484070802",
         "_committed_4419384885484070802",
         731,
         1733395596000
        ],
        [
         "abfss://processed@dpstorage21.dfs.core.windows.net/sales_data_cleaned.csv/_committed_4432105550067326948",
         "_committed_4432105550067326948",
         735,
         1733399203000
        ],
        [
         "abfss://processed@dpstorage21.dfs.core.windows.net/sales_data_cleaned.csv/_committed_4499776499068045179",
         "_committed_4499776499068045179",
         727,
         1733394693000
        ],
        [
         "abfss://processed@dpstorage21.dfs.core.windows.net/sales_data_cleaned.csv/_committed_452733333514060253",
         "_committed_452733333514060253",
         731,
         1733413602000
        ],
        [
         "abfss://processed@dpstorage21.dfs.core.windows.net/sales_data_cleaned.csv/_committed_4572999115513912744",
         "_committed_4572999115513912744",
         735,
         1733400090000
        ],
        [
         "abfss://processed@dpstorage21.dfs.core.windows.net/sales_data_cleaned.csv/_committed_5169356236541516397",
         "_committed_5169356236541516397",
         735,
         1733412694000
        ],
        [
         "abfss://processed@dpstorage21.dfs.core.windows.net/sales_data_cleaned.csv/_committed_5183371500699073350",
         "_committed_5183371500699073350",
         735,
         1733417192000
        ],
        [
         "abfss://processed@dpstorage21.dfs.core.windows.net/sales_data_cleaned.csv/_committed_5618203882637700425",
         "_committed_5618203882637700425",
         743,
         1733427095000
        ],
        [
         "abfss://processed@dpstorage21.dfs.core.windows.net/sales_data_cleaned.csv/_committed_5646855841300421139",
         "_committed_5646855841300421139",
         743,
         1733420794000
        ],
        [
         "abfss://processed@dpstorage21.dfs.core.windows.net/sales_data_cleaned.csv/_committed_576393305619914615",
         "_committed_576393305619914615",
         731,
         1733404595000
        ],
        [
         "abfss://processed@dpstorage21.dfs.core.windows.net/sales_data_cleaned.csv/_committed_5790219034973124292",
         "_committed_5790219034973124292",
         746,
         1733365413000
        ],
        [
         "abfss://processed@dpstorage21.dfs.core.windows.net/sales_data_cleaned.csv/_committed_5934896486712127558",
         "_committed_5934896486712127558",
         743,
         1733423493000
        ],
        [
         "abfss://processed@dpstorage21.dfs.core.windows.net/sales_data_cleaned.csv/_committed_654519818574611123",
         "_committed_654519818574611123",
         731,
         1733409100000
        ],
        [
         "abfss://processed@dpstorage21.dfs.core.windows.net/sales_data_cleaned.csv/_committed_6666863048391299753",
         "_committed_6666863048391299753",
         727,
         1733393797000
        ],
        [
         "abfss://processed@dpstorage21.dfs.core.windows.net/sales_data_cleaned.csv/_committed_675275959731260112",
         "_committed_675275959731260112",
         739,
         1733425295000
        ],
        [
         "abfss://processed@dpstorage21.dfs.core.windows.net/sales_data_cleaned.csv/_committed_6839452280581671134",
         "_committed_6839452280581671134",
         727,
         1733393416000
        ],
        [
         "abfss://processed@dpstorage21.dfs.core.windows.net/sales_data_cleaned.csv/_committed_6908028000630958275",
         "_committed_6908028000630958275",
         743,
         1733424394000
        ],
        [
         "abfss://processed@dpstorage21.dfs.core.windows.net/sales_data_cleaned.csv/_committed_7065693139505918454",
         "_committed_7065693139505918454",
         735,
         1733400993000
        ],
        [
         "abfss://processed@dpstorage21.dfs.core.windows.net/sales_data_cleaned.csv/_committed_7094898165669379374",
         "_committed_7094898165669379374",
         731,
         1733414514000
        ],
        [
         "abfss://processed@dpstorage21.dfs.core.windows.net/sales_data_cleaned.csv/_committed_7322814837976141126",
         "_committed_7322814837976141126",
         731,
         1733405493000
        ],
        [
         "abfss://processed@dpstorage21.dfs.core.windows.net/sales_data_cleaned.csv/_committed_7424992493315633691",
         "_committed_7424992493315633691",
         735,
         1733401891000
        ],
        [
         "abfss://processed@dpstorage21.dfs.core.windows.net/sales_data_cleaned.csv/_committed_7481574776296919021",
         "_committed_7481574776296919021",
         743,
         1733422594000
        ],
        [
         "abfss://processed@dpstorage21.dfs.core.windows.net/sales_data_cleaned.csv/_committed_7885583415011259304",
         "_committed_7885583415011259304",
         735,
         1733760324000
        ],
        [
         "abfss://processed@dpstorage21.dfs.core.windows.net/sales_data_cleaned.csv/_committed_8551811037166819618",
         "_committed_8551811037166819618",
         735,
         1733406397000
        ],
        [
         "abfss://processed@dpstorage21.dfs.core.windows.net/sales_data_cleaned.csv/_committed_8616199049491666436",
         "_committed_8616199049491666436",
         735,
         1733408194000
        ],
        [
         "abfss://processed@dpstorage21.dfs.core.windows.net/sales_data_cleaned.csv/_committed_9116779737281273400",
         "_committed_9116779737281273400",
         731,
         1733398304000
        ],
        [
         "abfss://processed@dpstorage21.dfs.core.windows.net/sales_data_cleaned.csv/_committed_988747237393454088",
         "_committed_988747237393454088",
         731,
         1733410896000
        ],
        [
         "abfss://processed@dpstorage21.dfs.core.windows.net/sales_data_cleaned.csv/_committed_vacuum3170557762684022480",
         "_committed_vacuum3170557762684022480",
         1507,
         1733760325000
        ],
        [
         "abfss://processed@dpstorage21.dfs.core.windows.net/sales_data_cleaned.csv/_started_7885583415011259304",
         "_started_7885583415011259304",
         0,
         1733760324000
        ],
        [
         "abfss://processed@dpstorage21.dfs.core.windows.net/sales_data_cleaned.csv/part-00000-tid-7885583415011259304-98b19eca-5345-4c0d-ab14-307be564adea-10-1-c000.csv",
         "part-00000-tid-7885583415011259304-98b19eca-5345-4c0d-ab14-307be564adea-10-1-c000.csv",
         146330,
         1733760324000
        ],
        [
         "abfss://processed@dpstorage21.dfs.core.windows.net/sales_data_cleaned.csv/part-00001-tid-7885583415011259304-98b19eca-5345-4c0d-ab14-307be564adea-11-1-c000.csv",
         "part-00001-tid-7885583415011259304-98b19eca-5345-4c0d-ab14-307be564adea-11-1-c000.csv",
         146203,
         1733760324000
        ],
        [
         "abfss://processed@dpstorage21.dfs.core.windows.net/sales_data_cleaned.csv/part-00002-tid-7885583415011259304-98b19eca-5345-4c0d-ab14-307be564adea-12-1-c000.csv",
         "part-00002-tid-7885583415011259304-98b19eca-5345-4c0d-ab14-307be564adea-12-1-c000.csv",
         144539,
         1733760324000
        ],
        [
         "abfss://processed@dpstorage21.dfs.core.windows.net/sales_data_cleaned.csv/part-00003-tid-7885583415011259304-98b19eca-5345-4c0d-ab14-307be564adea-13-1-c000.csv",
         "part-00003-tid-7885583415011259304-98b19eca-5345-4c0d-ab14-307be564adea-13-1-c000.csv",
         144377,
         1733760324000
        ]
       ],
       "datasetInfos": [],
       "dbfsResultPath": null,
       "isJsonSchema": true,
       "metadata": {},
       "overflow": false,
       "plotOptions": {
        "customPlotOptions": {},
        "displayType": "table",
        "pivotAggregation": null,
        "pivotColumns": null,
        "xColumns": null,
        "yColumns": null
       },
       "removedWidgets": [],
       "schema": [
        {
         "metadata": "{}",
         "name": "path",
         "type": "\"string\""
        },
        {
         "metadata": "{}",
         "name": "name",
         "type": "\"string\""
        },
        {
         "metadata": "{}",
         "name": "size",
         "type": "\"long\""
        },
        {
         "metadata": "{}",
         "name": "modificationTime",
         "type": "\"long\""
        }
       ],
       "type": "table"
      }
     },
     "output_type": "display_data"
    }
   ],
   "source": [
    "%python\n",
    "#Set the storage account key\n",
    "spark.conf.set(\n",
    "    \"fs.azure.account.key.dpstorage21.dfs.core.windows.net\",\"o1zhSIwsiONj8+NSuytF22pskSpGLY4gKUIYWTkpNoGUOJrmfVGdIvdzDYByuwtBmtMtyvm0OB39+AStJwZKlQ==\")\n",
    "\n",
    "# List the files in the specified directory\n",
    "display(dbutils.fs.ls(\"abfss://processed@dpstorage21.dfs.core.windows.net/sales_data_cleaned.csv\"))"
   ]
  },
  {
   "cell_type": "code",
   "execution_count": 0,
   "metadata": {
    "application/vnd.databricks.v1+cell": {
     "cellMetadata": {
      "byteLimit": 2048000,
      "rowLimit": 10000
     },
     "inputWidgets": {},
     "nuid": "5859fb46-2c11-4638-be7f-32087bfb9de0",
     "showTitle": false,
     "tableResultSettingsMap": {},
     "title": ""
    }
   },
   "outputs": [],
   "source": [
    "file_path = \"abfss://processed@dpstorage21.dfs.core.windows.net/sales_data_cleaned.csv\"\n",
    "sales_data_df = spark.read.csv(file_path, header=True, inferSchema=True)"
   ]
  },
  {
   "cell_type": "code",
   "execution_count": 0,
   "metadata": {
    "application/vnd.databricks.v1+cell": {
     "cellMetadata": {
      "byteLimit": 2048000,
      "rowLimit": 10000
     },
     "inputWidgets": {},
     "nuid": "6589eb58-93be-48ed-9b5d-490beb412f00",
     "showTitle": false,
     "tableResultSettingsMap": {},
     "title": ""
    }
   },
   "outputs": [],
   "source": [
    "# 1. GroupBy Transformation: Summarize Sales by Product Line\n",
    "sales_summary = (\n",
    "    sales_data_df.groupBy(\"PRODUCTLINE\")\n",
    "    .agg(\n",
    "        sum(\"SALES\").alias(\"TOTAL_SALES\"),\n",
    "        avg(\"SALES\").alias(\"AVERAGE_SALES\"),\n",
    "        count(\"SALES\").alias(\"SALES_COUNT\")\n",
    "    )\n",
    ")"
   ]
  },
  {
   "cell_type": "code",
   "execution_count": 0,
   "metadata": {
    "application/vnd.databricks.v1+cell": {
     "cellMetadata": {
      "byteLimit": 2048000,
      "rowLimit": 10000
     },
     "inputWidgets": {},
     "nuid": "26553689-0ea1-491b-a9c1-f87e3f9ee386",
     "showTitle": false,
     "tableResultSettingsMap": {},
     "title": ""
    }
   },
   "outputs": [],
   "source": [
    "# 1. GroupBy Transformation: Summarize Sales by Product Line\n",
    "sales_summary = (\n",
    "    sales_data_df.groupBy(\"PRODUCTLINE\")\n",
    "    .agg(\n",
    "        sum(\"SALES\").alias(\"TOTAL_SALES\"),\n",
    "        avg(\"SALES\").alias(\"AVERAGE_SALES\"),\n",
    "        count(\"SALES\").alias(\"SALES_COUNT\")\n",
    "    )\n",
    ")"
   ]
  },
  {
   "cell_type": "code",
   "execution_count": 0,
   "metadata": {
    "application/vnd.databricks.v1+cell": {
     "cellMetadata": {
      "byteLimit": 2048000,
      "rowLimit": 10000
     },
     "inputWidgets": {},
     "nuid": "46eb850e-6e30-4d05-b330-e567c428ae41",
     "showTitle": false,
     "tableResultSettingsMap": {},
     "title": ""
    }
   },
   "outputs": [
    {
     "output_type": "stream",
     "name": "stdout",
     "output_type": "stream",
     "text": [
      "+----------------+------------------+------------------+-----------+\n|     PRODUCTLINE|       TOTAL_SALES|     AVERAGE_SALES|SALES_COUNT|\n+----------------+------------------+------------------+-----------+\n|     Motorcycles|        1166388.34|3523.8318429003025|        331|\n|    Vintage Cars|1903150.8399999999|3135.3391103789127|        607|\n|Trucks and Buses|        1127789.84|3746.8100996677745|        301|\n|    Classic Cars|3919615.6599999983|4053.3771044467408|        967|\n|          Planes| 975003.5699999997| 3186.286176470587|        306|\n|           Ships| 714437.1299999997|3053.1501282051267|        234|\n|          Trains|         226243.47| 2938.226883116883|         77|\n+----------------+------------------+------------------+-----------+\n\n"
     ]
    }
   ],
   "source": [
    "# Show the results\n",
    "sales_summary.show()"
   ]
  },
  {
   "cell_type": "code",
   "execution_count": 0,
   "metadata": {
    "application/vnd.databricks.v1+cell": {
     "cellMetadata": {
      "byteLimit": 2048000,
      "rowLimit": 10000
     },
     "inputWidgets": {},
     "nuid": "39950aea-d641-455b-a93e-0c1f855302e9",
     "showTitle": false,
     "tableResultSettingsMap": {},
     "title": ""
    }
   },
   "outputs": [],
   "source": [
    "# 2. PartitionBy Transformation: Partition Data by Year and Month for Staging\n",
    "output_path = 'abfss://staging@dpstorage21.dfs.core.windows.net/sales_data_cleaned.csv'\n",
    "(\n",
    "    sales_data_df.repartition(\"YEAR_ID\", \"MONTH_ID\")\n",
    "    .write.mode(\"overwrite\")\n",
    "    .partitionBy(\"YEAR_ID\", \"MONTH_ID\")\n",
    "    .parquet(output_path)\n",
    ")"
   ]
  },
  {
   "cell_type": "code",
   "execution_count": 0,
   "metadata": {
    "application/vnd.databricks.v1+cell": {
     "cellMetadata": {
      "byteLimit": 2048000,
      "rowLimit": 10000
     },
     "inputWidgets": {},
     "nuid": "b69fead6-4ba2-49d2-b40b-5cd3ddc62bd9",
     "showTitle": false,
     "tableResultSettingsMap": {},
     "title": ""
    }
   },
   "outputs": [
    {
     "output_type": "stream",
     "name": "stdout",
     "output_type": "stream",
     "text": [
      "Data partitioned by 'YEAR_ID' and 'MONTH_ID' and saved to abfss://staging@dpstorage21.dfs.core.windows.net/sales_data_cleaned.csv\n"
     ]
    }
   ],
   "source": [
    "print(f\"Data partitioned by 'YEAR_ID' and 'MONTH_ID' and saved to {output_path}\")"
   ]
  }
 ],
 "metadata": {
  "application/vnd.databricks.v1+notebook": {
   "dashboards": [],
   "environmentMetadata": {
    "base_environment": "",
    "client": "1"
   },
   "language": "python",
   "notebookMetadata": {
    "pythonIndentUnit": 4
   },
   "notebookName": "Transformations",
   "widgets": {}
  },
  "language_info": {
   "name": "python"
  }
 },
 "nbformat": 4,
 "nbformat_minor": 0
}